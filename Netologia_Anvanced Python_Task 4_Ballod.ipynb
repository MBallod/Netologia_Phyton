{
 "cells": [
  {
   "cell_type": "code",
   "execution_count": 84,
   "metadata": {},
   "outputs": [],
   "source": [
    "import re"
   ]
  },
  {
   "cell_type": "markdown",
   "metadata": {},
   "source": [
    "# Задание 1"
   ]
  },
  {
   "cell_type": "code",
   "execution_count": 94,
   "metadata": {},
   "outputs": [],
   "source": [
    "def is_car_plate(car_id):\n",
    "    \"\"\" \n",
    "    Проверяет, является ли car_id валидным номером. Если да, то возвращает сам номер и номер региона.\n",
    "    В номере используются буквы кириллического алфавита - аверкмнорстух\n",
    "    \"\"\"\n",
    "    pattern_car_plate =r'([авекмнорстух]{1})(\\d{3})([авекмнорстух]{2})(\\d{2,3})'\n",
    "    try:\n",
    "        result = re.fullmatch(pattern_car_plate, car_id, flags=re.IGNORECASE)\n",
    "        if result:\n",
    "            print(f'Номер {car_id} валиден. Регион: {result[4]}')\n",
    "            return car_id, result[4]\n",
    "        else:\n",
    "            print(f'Номер {car_id} не валиден')\n",
    "    except:\n",
    "        print(f'Номер {car_id} не валиден')  \n",
    "   "
   ]
  },
  {
   "cell_type": "code",
   "execution_count": 97,
   "metadata": {},
   "outputs": [
    {
     "name": "stdout",
     "output_type": "stream",
     "text": [
      "Номер А222ВС96 валиден. Регион: 96\n"
     ]
    },
    {
     "data": {
      "text/plain": [
       "('А222ВС96', '96')"
      ]
     },
     "execution_count": 97,
     "metadata": {},
     "output_type": "execute_result"
    }
   ],
   "source": [
    "is_car_plate('А222ВС96')"
   ]
  },
  {
   "cell_type": "code",
   "execution_count": 96,
   "metadata": {},
   "outputs": [
    {
     "name": "stdout",
     "output_type": "stream",
     "text": [
      "Номер АБ22ВВ193 не валиден\n"
     ]
    }
   ],
   "source": [
    "is_car_plate('АБ22ВВ193')"
   ]
  },
  {
   "cell_type": "markdown",
   "metadata": {},
   "source": [
    "# Задание 2"
   ]
  },
  {
   "cell_type": "code",
   "execution_count": 191,
   "metadata": {},
   "outputs": [],
   "source": [
    "some_string = '''Напишите функцию функцию, которая будет будет будет \n",
    "будет удалять все все все все последовательные повторы слов из из из заданной строки строки при \n",
    "помощи регулярных выражений'''"
   ]
  },
  {
   "cell_type": "code",
   "execution_count": 192,
   "metadata": {},
   "outputs": [
    {
     "name": "stdout",
     "output_type": "stream",
     "text": [
      "Напишите функцию, которая будет \n",
      "будет удалять все последовательные повторы слов из заданной строки при \n",
      "помощи регулярных выражений\n"
     ]
    }
   ],
   "source": [
    "print(re.sub(r'(\\w+)([ ]+\\1)+', r'\\1',  some_string, flags=re.I))"
   ]
  },
  {
   "cell_type": "markdown",
   "metadata": {},
   "source": [
    "Справляется с ситуацией, если между повторяющимися словами перенос строки:"
   ]
  },
  {
   "cell_type": "code",
   "execution_count": 193,
   "metadata": {},
   "outputs": [
    {
     "name": "stdout",
     "output_type": "stream",
     "text": [
      "Напишите функцию, которая будет удалять все последовательные повторы слов из заданной строки при  помощи регулярных выражений\n"
     ]
    }
   ],
   "source": [
    "print(re.sub(r'(\\w+)([ ]+\\1)+', r'\\1', re.sub(r'\\n', ' ', some_string), flags=re.I))"
   ]
  },
  {
   "cell_type": "code",
   "execution_count": 198,
   "metadata": {},
   "outputs": [],
   "source": [
    "def delete_repeating_words (some_string: str):\n",
    "    \"\"\"Удаляет последовательные повторы слов из строки и возвращает строку без повторов\"\"\"\n",
    "    return re.sub(r'(\\w+)([ ]+\\1)+', r'\\1', re.sub(r'\\n', ' ', some_string), flags=re.I)\n",
    "    "
   ]
  },
  {
   "cell_type": "code",
   "execution_count": 199,
   "metadata": {},
   "outputs": [
    {
     "data": {
      "text/plain": [
       "'Напишите функцию, которая будет удалять все последовательные повторы слов из заданной строки при  помощи регулярных выражений'"
      ]
     },
     "execution_count": 199,
     "metadata": {},
     "output_type": "execute_result"
    }
   ],
   "source": [
    "delete_repeating_words(some_string)"
   ]
  },
  {
   "cell_type": "code",
   "execution_count": null,
   "metadata": {},
   "outputs": [],
   "source": []
  }
 ],
 "metadata": {
  "kernelspec": {
   "display_name": "Python 3",
   "language": "python",
   "name": "python3"
  },
  "language_info": {
   "codemirror_mode": {
    "name": "ipython",
    "version": 3
   },
   "file_extension": ".py",
   "mimetype": "text/x-python",
   "name": "python",
   "nbconvert_exporter": "python",
   "pygments_lexer": "ipython3",
   "version": "3.8.3"
  }
 },
 "nbformat": 4,
 "nbformat_minor": 4
}
