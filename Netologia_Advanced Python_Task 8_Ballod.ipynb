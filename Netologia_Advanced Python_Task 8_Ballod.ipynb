{
 "cells": [
  {
   "cell_type": "code",
   "execution_count": 1,
   "metadata": {},
   "outputs": [],
   "source": [
    "import numpy as np"
   ]
  },
  {
   "cell_type": "markdown",
   "metadata": {},
   "source": [
    "# Задача 1 \n",
    "Определим функцию выигрыша (payoff - 1) и запустим симуляцию, чтобы понять сколько в среднем мы выигрываем. Если результат отрицательный, то игра в пользу казино и нам играть в неё неинтересно"
   ]
  },
  {
   "cell_type": "code",
   "execution_count": 7,
   "metadata": {},
   "outputs": [],
   "source": [
    "def payoff(r: int):\n",
    "    some_payoff_dict = {777:200, 999:100, 555:50, 333:15, 111:10}\n",
    "    if r > 999 or r < 0:\n",
    "        print(\"Invalid lottery machine output\")\n",
    "        return None\n",
    "    if r in some_payoff_dict:\n",
    "        return some_payoff_dict[r]\n",
    "    if r%100 == 77:\n",
    "        return 5\n",
    "    if r%10 == 7:\n",
    "        return 3\n",
    "    if r%100 == 0:\n",
    "        return 2\n",
    "    if r%10 == 0:\n",
    "        return 1\n",
    "    return 0\n"
   ]
  },
  {
   "cell_type": "code",
   "execution_count": 62,
   "metadata": {},
   "outputs": [
    {
     "name": "stdout",
     "output_type": "stream",
     "text": [
      "Играть невыгодно\n",
      "-0.200633\n"
     ]
    }
   ],
   "source": [
    "trials = 10000000\n",
    "gain = 0\n",
    "\n",
    "for i in range(trials):\n",
    "    gain -= 1\n",
    "    machine_output = np.random.randint(0, 1000)\n",
    "    gain += payoff(machine_output)\n",
    "\n",
    "expected_gain_simul = gain/trials\n",
    "\n",
    "print('Играть выгодно') if expected_gain_simul > 0 else print('Играть невыгодно')\n",
    "\n",
    "print(expected_gain_simul)  \n"
   ]
  },
  {
   "cell_type": "markdown",
   "metadata": {},
   "source": [
    "# Задача 2\n",
    "Оценим мат. ожидание выигрыша. Для это просуммируем для всех возможных значений выдачи лотерейной машины вероятность наступления этого значения (1/1000) помноженную на функцию выигрыша (payoff - 1)"
   ]
  },
  {
   "cell_type": "code",
   "execution_count": 65,
   "metadata": {},
   "outputs": [],
   "source": [
    "expected_gain_theory = 0\n",
    "for i in range(1000):\n",
    "    expected_gain_theory += (payoff(i) - 1)/1000"
   ]
  },
  {
   "cell_type": "code",
   "execution_count": 67,
   "metadata": {},
   "outputs": [
    {
     "data": {
      "text/plain": [
       "(-0.200633, -0.20000000000000048)"
      ]
     },
     "execution_count": 67,
     "metadata": {},
     "output_type": "execute_result"
    }
   ],
   "source": [
    "expected_gain_simul, expected_gain_theory"
   ]
  },
  {
   "cell_type": "markdown",
   "metadata": {},
   "source": [
    "Теоритеческое и смодлированное значения почти совпали - это победа!"
   ]
  }
 ],
 "metadata": {
  "kernelspec": {
   "display_name": "base",
   "language": "python",
   "name": "python3"
  },
  "language_info": {
   "codemirror_mode": {
    "name": "ipython",
    "version": 3
   },
   "file_extension": ".py",
   "mimetype": "text/x-python",
   "name": "python",
   "nbconvert_exporter": "python",
   "pygments_lexer": "ipython3",
   "version": "3.8.3"
  }
 },
 "nbformat": 4,
 "nbformat_minor": 2
}
