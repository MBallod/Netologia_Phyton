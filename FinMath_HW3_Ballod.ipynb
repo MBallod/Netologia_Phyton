{
 "cells": [
  {
   "cell_type": "code",
   "execution_count": 211,
   "metadata": {},
   "outputs": [],
   "source": [
    "import pandas as pd\n",
    "import numpy as np"
   ]
  },
  {
   "cell_type": "markdown",
   "metadata": {},
   "source": [
    "Данные заранее скачал в отдельные csv файлы. Без них модель работать не будет"
   ]
  },
  {
   "cell_type": "code",
   "execution_count": 212,
   "metadata": {},
   "outputs": [],
   "source": [
    "brent = pd.read_csv('Brent_price.csv', sep=';')"
   ]
  },
  {
   "cell_type": "code",
   "execution_count": 213,
   "metadata": {},
   "outputs": [
    {
     "data": {
      "text/html": [
       "<div>\n",
       "<style scoped>\n",
       "    .dataframe tbody tr th:only-of-type {\n",
       "        vertical-align: middle;\n",
       "    }\n",
       "\n",
       "    .dataframe tbody tr th {\n",
       "        vertical-align: top;\n",
       "    }\n",
       "\n",
       "    .dataframe thead th {\n",
       "        text-align: right;\n",
       "    }\n",
       "</style>\n",
       "<table border=\"1\" class=\"dataframe\">\n",
       "  <thead>\n",
       "    <tr style=\"text-align: right;\">\n",
       "      <th></th>\n",
       "      <th>Date</th>\n",
       "      <th>Open</th>\n",
       "      <th>High</th>\n",
       "      <th>Low</th>\n",
       "      <th>Close*</th>\n",
       "      <th>Adj Close**</th>\n",
       "      <th>Volume</th>\n",
       "    </tr>\n",
       "  </thead>\n",
       "  <tbody>\n",
       "    <tr>\n",
       "      <th>0</th>\n",
       "      <td>Dec 07, 2023</td>\n",
       "      <td>74.30</td>\n",
       "      <td>75.48</td>\n",
       "      <td>73.61</td>\n",
       "      <td>74.03</td>\n",
       "      <td>74.03</td>\n",
       "      <td>24,213</td>\n",
       "    </tr>\n",
       "    <tr>\n",
       "      <th>1</th>\n",
       "      <td>Dec 06, 2023</td>\n",
       "      <td>77.06</td>\n",
       "      <td>77.63</td>\n",
       "      <td>74.11</td>\n",
       "      <td>74.30</td>\n",
       "      <td>74.30</td>\n",
       "      <td>30,931</td>\n",
       "    </tr>\n",
       "    <tr>\n",
       "      <th>2</th>\n",
       "      <td>Dec 05, 2023</td>\n",
       "      <td>78.20</td>\n",
       "      <td>79.07</td>\n",
       "      <td>76.98</td>\n",
       "      <td>77.20</td>\n",
       "      <td>77.20</td>\n",
       "      <td>30,931</td>\n",
       "    </tr>\n",
       "    <tr>\n",
       "      <th>3</th>\n",
       "      <td>Dec 04, 2023</td>\n",
       "      <td>79.43</td>\n",
       "      <td>79.66</td>\n",
       "      <td>77.52</td>\n",
       "      <td>78.03</td>\n",
       "      <td>78.03</td>\n",
       "      <td>32,582</td>\n",
       "    </tr>\n",
       "    <tr>\n",
       "      <th>4</th>\n",
       "      <td>Dec 01, 2023</td>\n",
       "      <td>80.47</td>\n",
       "      <td>81.52</td>\n",
       "      <td>78.75</td>\n",
       "      <td>78.88</td>\n",
       "      <td>78.88</td>\n",
       "      <td>29,551</td>\n",
       "    </tr>\n",
       "  </tbody>\n",
       "</table>\n",
       "</div>"
      ],
      "text/plain": [
       "           Date   Open   High    Low  Close*  Adj Close**  Volume\n",
       "0  Dec 07, 2023  74.30  75.48  73.61   74.03        74.03  24,213\n",
       "1  Dec 06, 2023  77.06  77.63  74.11   74.30        74.30  30,931\n",
       "2  Dec 05, 2023  78.20  79.07  76.98   77.20        77.20  30,931\n",
       "3  Dec 04, 2023  79.43  79.66  77.52   78.03        78.03  32,582\n",
       "4  Dec 01, 2023  80.47  81.52  78.75   78.88        78.88  29,551"
      ]
     },
     "execution_count": 213,
     "metadata": {},
     "output_type": "execute_result"
    }
   ],
   "source": [
    "brent.head()"
   ]
  },
  {
   "cell_type": "code",
   "execution_count": 214,
   "metadata": {},
   "outputs": [],
   "source": [
    "from statsmodels.tsa.stattools import adfuller"
   ]
  },
  {
   "cell_type": "markdown",
   "metadata": {},
   "source": [
    "Зададим функцию с расширенным тестом Дики-Фуллера, которую будем использовать для решения 1 и 2 задачи"
   ]
  },
  {
   "cell_type": "code",
   "execution_count": 215,
   "metadata": {},
   "outputs": [],
   "source": [
    "def ADF_test(x, alfa = 0.1):\n",
    "    result = adfuller(x)\n",
    "    \n",
    "    print('Значение тест ADF (Расширенный тест Дики-Фуллера) для цены брента: %f' % result[0])\n",
    "    print('p-value: %f' % result[1])\n",
    "    print('Критические значения:')\n",
    "    \n",
    "    for key, value in result[4].items():\n",
    "        print('\\t%s: %.3f' % (key, value))\n",
    "    \n",
    "    return result [1]< alfa\n"
   ]
  },
  {
   "cell_type": "code",
   "execution_count": 216,
   "metadata": {},
   "outputs": [],
   "source": [
    "def log_r(x,y):\n",
    "    return np.log(x) - np.log(y)"
   ]
  },
  {
   "cell_type": "markdown",
   "metadata": {},
   "source": [
    "# Задача 1"
   ]
  },
  {
   "cell_type": "code",
   "execution_count": 217,
   "metadata": {},
   "outputs": [
    {
     "name": "stdout",
     "output_type": "stream",
     "text": [
      "Значение тест ADF (Расширенный тест Дики-Фуллера) для цены брента: -2.395073\n",
      "p-value: 0.143132\n",
      "Критические значения:\n",
      "\t1%: -3.457\n",
      "\t5%: -2.873\n",
      "\t10%: -2.573\n",
      "Нельзя сказать, что стационарный с вероятностью > 0.9\n"
     ]
    }
   ],
   "source": [
    "p = 0.9\n",
    "print('Стационарный вероятностью >' if ADF_test(brent['Close*'], 1-p) else 'Нельзя сказать, что стационарный с вероятностью >', p)"
   ]
  },
  {
   "cell_type": "markdown",
   "metadata": {},
   "source": [
    "Значение теста больше 10%-критического значение (p-value больше 10%). Нельзя сказать, что временной ряд стационарен с вероятностью высокой веротностью (90% и выше)"
   ]
  },
  {
   "cell_type": "markdown",
   "metadata": {},
   "source": [
    "# Задача 2"
   ]
  },
  {
   "cell_type": "code",
   "execution_count": 218,
   "metadata": {},
   "outputs": [],
   "source": [
    "brent['log_r'] = log_r(brent['Close*'], brent['Close*'].shift(-1))\n",
    "brent.dropna(axis = 0, how = 'any', inplace= True)\n"
   ]
  },
  {
   "cell_type": "code",
   "execution_count": 219,
   "metadata": {},
   "outputs": [
    {
     "data": {
      "text/html": [
       "<div>\n",
       "<style scoped>\n",
       "    .dataframe tbody tr th:only-of-type {\n",
       "        vertical-align: middle;\n",
       "    }\n",
       "\n",
       "    .dataframe tbody tr th {\n",
       "        vertical-align: top;\n",
       "    }\n",
       "\n",
       "    .dataframe thead th {\n",
       "        text-align: right;\n",
       "    }\n",
       "</style>\n",
       "<table border=\"1\" class=\"dataframe\">\n",
       "  <thead>\n",
       "    <tr style=\"text-align: right;\">\n",
       "      <th></th>\n",
       "      <th>Date</th>\n",
       "      <th>Open</th>\n",
       "      <th>High</th>\n",
       "      <th>Low</th>\n",
       "      <th>Close*</th>\n",
       "      <th>Adj Close**</th>\n",
       "      <th>Volume</th>\n",
       "      <th>log_r</th>\n",
       "    </tr>\n",
       "  </thead>\n",
       "  <tbody>\n",
       "    <tr>\n",
       "      <th>0</th>\n",
       "      <td>Dec 07, 2023</td>\n",
       "      <td>74.30</td>\n",
       "      <td>75.48</td>\n",
       "      <td>73.61</td>\n",
       "      <td>74.03</td>\n",
       "      <td>74.03</td>\n",
       "      <td>24,213</td>\n",
       "      <td>-0.003641</td>\n",
       "    </tr>\n",
       "    <tr>\n",
       "      <th>1</th>\n",
       "      <td>Dec 06, 2023</td>\n",
       "      <td>77.06</td>\n",
       "      <td>77.63</td>\n",
       "      <td>74.11</td>\n",
       "      <td>74.30</td>\n",
       "      <td>74.30</td>\n",
       "      <td>30,931</td>\n",
       "      <td>-0.038289</td>\n",
       "    </tr>\n",
       "    <tr>\n",
       "      <th>2</th>\n",
       "      <td>Dec 05, 2023</td>\n",
       "      <td>78.20</td>\n",
       "      <td>79.07</td>\n",
       "      <td>76.98</td>\n",
       "      <td>77.20</td>\n",
       "      <td>77.20</td>\n",
       "      <td>30,931</td>\n",
       "      <td>-0.010694</td>\n",
       "    </tr>\n",
       "    <tr>\n",
       "      <th>3</th>\n",
       "      <td>Dec 04, 2023</td>\n",
       "      <td>79.43</td>\n",
       "      <td>79.66</td>\n",
       "      <td>77.52</td>\n",
       "      <td>78.03</td>\n",
       "      <td>78.03</td>\n",
       "      <td>32,582</td>\n",
       "      <td>-0.010834</td>\n",
       "    </tr>\n",
       "    <tr>\n",
       "      <th>4</th>\n",
       "      <td>Dec 01, 2023</td>\n",
       "      <td>80.47</td>\n",
       "      <td>81.52</td>\n",
       "      <td>78.75</td>\n",
       "      <td>78.88</td>\n",
       "      <td>78.88</td>\n",
       "      <td>29,551</td>\n",
       "      <td>-0.048863</td>\n",
       "    </tr>\n",
       "  </tbody>\n",
       "</table>\n",
       "</div>"
      ],
      "text/plain": [
       "           Date   Open   High    Low  Close*  Adj Close**  Volume     log_r\n",
       "0  Dec 07, 2023  74.30  75.48  73.61   74.03        74.03  24,213 -0.003641\n",
       "1  Dec 06, 2023  77.06  77.63  74.11   74.30        74.30  30,931 -0.038289\n",
       "2  Dec 05, 2023  78.20  79.07  76.98   77.20        77.20  30,931 -0.010694\n",
       "3  Dec 04, 2023  79.43  79.66  77.52   78.03        78.03  32,582 -0.010834\n",
       "4  Dec 01, 2023  80.47  81.52  78.75   78.88        78.88  29,551 -0.048863"
      ]
     },
     "execution_count": 219,
     "metadata": {},
     "output_type": "execute_result"
    }
   ],
   "source": [
    "brent.head()"
   ]
  },
  {
   "cell_type": "code",
   "execution_count": 220,
   "metadata": {},
   "outputs": [
    {
     "name": "stdout",
     "output_type": "stream",
     "text": [
      "Значение тест ADF (Расширенный тест Дики-Фуллера) для цены брента: -10.473430\n",
      "p-value: 0.000000\n",
      "Критические значения:\n",
      "\t1%: -3.457\n",
      "\t5%: -2.873\n",
      "\t10%: -2.573\n",
      "Стационарный вероятностью > 0.99\n"
     ]
    }
   ],
   "source": [
    "p = 0.99\n",
    "print('Стационарный вероятностью >' if ADF_test(brent['log_r'], 1-p) else 'Нельзя сказать, что стационарный с вероятностью >', p)"
   ]
  },
  {
   "cell_type": "markdown",
   "metadata": {},
   "source": [
    "adfuller посчитал нам совсем низкий p-value и это хорошо, но подозрительно. Тем не менее, сравнивая значения статистики с критическими значениями, приходим к тому же выводу"
   ]
  },
  {
   "cell_type": "markdown",
   "metadata": {},
   "source": [
    "# Задачи 3 и 4"
   ]
  },
  {
   "cell_type": "code",
   "execution_count": 221,
   "metadata": {},
   "outputs": [],
   "source": [
    "usd_rub = pd.read_csv('RUBUSD.csv', sep=',')"
   ]
  },
  {
   "cell_type": "code",
   "execution_count": 222,
   "metadata": {},
   "outputs": [
    {
     "data": {
      "text/plain": [
       "(         Date       Open       High        Low      Close  Adj Close  Volume\n",
       " 0  2022-12-07  60.514999  63.279999  60.514999  60.514999  60.514999       0\n",
       " 1  2022-12-08  61.965000  62.980099  61.965000  63.464901  63.464901       0\n",
       " 2  2022-12-09  62.035000  62.779999  62.035000  63.365002  63.365002       0\n",
       " 3  2022-12-12  62.480000  63.249500  62.380001  62.480000  62.480000       0\n",
       " 4  2022-12-13  62.625000  63.508499  62.625000  62.625000  62.625000       0,\n",
       "            Date   Open   High    Low  Close*  Adj Close**  Volume     log_r\n",
       " 0  Dec 07, 2023  74.30  75.48  73.61   74.03        74.03  24,213 -0.003641\n",
       " 1  Dec 06, 2023  77.06  77.63  74.11   74.30        74.30  30,931 -0.038289\n",
       " 2  Dec 05, 2023  78.20  79.07  76.98   77.20        77.20  30,931 -0.010694\n",
       " 3  Dec 04, 2023  79.43  79.66  77.52   78.03        78.03  32,582 -0.010834\n",
       " 4  Dec 01, 2023  80.47  81.52  78.75   78.88        78.88  29,551 -0.048863)"
      ]
     },
     "execution_count": 222,
     "metadata": {},
     "output_type": "execute_result"
    }
   ],
   "source": [
    "usd_rub.head(), brent.head()"
   ]
  },
  {
   "cell_type": "markdown",
   "metadata": {},
   "source": [
    "Нужно привести даты к одному формату, объединить по ним таблицы и посчитать log изменений цены доллара (для задачи 4)"
   ]
  },
  {
   "cell_type": "code",
   "execution_count": 223,
   "metadata": {},
   "outputs": [],
   "source": [
    "from datetime import datetime\n",
    "import datetime as dt"
   ]
  },
  {
   "cell_type": "code",
   "execution_count": 224,
   "metadata": {},
   "outputs": [
    {
     "data": {
      "text/html": [
       "<div>\n",
       "<style scoped>\n",
       "    .dataframe tbody tr th:only-of-type {\n",
       "        vertical-align: middle;\n",
       "    }\n",
       "\n",
       "    .dataframe tbody tr th {\n",
       "        vertical-align: top;\n",
       "    }\n",
       "\n",
       "    .dataframe thead th {\n",
       "        text-align: right;\n",
       "    }\n",
       "</style>\n",
       "<table border=\"1\" class=\"dataframe\">\n",
       "  <thead>\n",
       "    <tr style=\"text-align: right;\">\n",
       "      <th></th>\n",
       "      <th>Date</th>\n",
       "      <th>Open</th>\n",
       "      <th>High</th>\n",
       "      <th>Low</th>\n",
       "      <th>Close*</th>\n",
       "      <th>Adj Close**</th>\n",
       "      <th>Volume</th>\n",
       "      <th>log_r</th>\n",
       "    </tr>\n",
       "  </thead>\n",
       "  <tbody>\n",
       "    <tr>\n",
       "      <th>0</th>\n",
       "      <td>2023-12-07</td>\n",
       "      <td>74.30</td>\n",
       "      <td>75.48</td>\n",
       "      <td>73.61</td>\n",
       "      <td>74.03</td>\n",
       "      <td>74.03</td>\n",
       "      <td>24,213</td>\n",
       "      <td>-0.003641</td>\n",
       "    </tr>\n",
       "    <tr>\n",
       "      <th>1</th>\n",
       "      <td>2023-12-06</td>\n",
       "      <td>77.06</td>\n",
       "      <td>77.63</td>\n",
       "      <td>74.11</td>\n",
       "      <td>74.30</td>\n",
       "      <td>74.30</td>\n",
       "      <td>30,931</td>\n",
       "      <td>-0.038289</td>\n",
       "    </tr>\n",
       "    <tr>\n",
       "      <th>2</th>\n",
       "      <td>2023-12-05</td>\n",
       "      <td>78.20</td>\n",
       "      <td>79.07</td>\n",
       "      <td>76.98</td>\n",
       "      <td>77.20</td>\n",
       "      <td>77.20</td>\n",
       "      <td>30,931</td>\n",
       "      <td>-0.010694</td>\n",
       "    </tr>\n",
       "    <tr>\n",
       "      <th>3</th>\n",
       "      <td>2023-12-04</td>\n",
       "      <td>79.43</td>\n",
       "      <td>79.66</td>\n",
       "      <td>77.52</td>\n",
       "      <td>78.03</td>\n",
       "      <td>78.03</td>\n",
       "      <td>32,582</td>\n",
       "      <td>-0.010834</td>\n",
       "    </tr>\n",
       "    <tr>\n",
       "      <th>4</th>\n",
       "      <td>2023-12-01</td>\n",
       "      <td>80.47</td>\n",
       "      <td>81.52</td>\n",
       "      <td>78.75</td>\n",
       "      <td>78.88</td>\n",
       "      <td>78.88</td>\n",
       "      <td>29,551</td>\n",
       "      <td>-0.048863</td>\n",
       "    </tr>\n",
       "  </tbody>\n",
       "</table>\n",
       "</div>"
      ],
      "text/plain": [
       "        Date   Open   High    Low  Close*  Adj Close**  Volume     log_r\n",
       "0 2023-12-07  74.30  75.48  73.61   74.03        74.03  24,213 -0.003641\n",
       "1 2023-12-06  77.06  77.63  74.11   74.30        74.30  30,931 -0.038289\n",
       "2 2023-12-05  78.20  79.07  76.98   77.20        77.20  30,931 -0.010694\n",
       "3 2023-12-04  79.43  79.66  77.52   78.03        78.03  32,582 -0.010834\n",
       "4 2023-12-01  80.47  81.52  78.75   78.88        78.88  29,551 -0.048863"
      ]
     },
     "execution_count": 224,
     "metadata": {},
     "output_type": "execute_result"
    }
   ],
   "source": [
    "brent['Date'] = brent['Date'].apply(lambda x: datetime.strptime(x, \"%b %d, %Y\"))\n",
    "brent.head()"
   ]
  },
  {
   "cell_type": "code",
   "execution_count": 225,
   "metadata": {},
   "outputs": [
    {
     "data": {
      "text/html": [
       "<div>\n",
       "<style scoped>\n",
       "    .dataframe tbody tr th:only-of-type {\n",
       "        vertical-align: middle;\n",
       "    }\n",
       "\n",
       "    .dataframe tbody tr th {\n",
       "        vertical-align: top;\n",
       "    }\n",
       "\n",
       "    .dataframe thead th {\n",
       "        text-align: right;\n",
       "    }\n",
       "</style>\n",
       "<table border=\"1\" class=\"dataframe\">\n",
       "  <thead>\n",
       "    <tr style=\"text-align: right;\">\n",
       "      <th></th>\n",
       "      <th>Date</th>\n",
       "      <th>Open</th>\n",
       "      <th>High</th>\n",
       "      <th>Low</th>\n",
       "      <th>Close</th>\n",
       "      <th>Adj Close</th>\n",
       "      <th>Volume</th>\n",
       "    </tr>\n",
       "  </thead>\n",
       "  <tbody>\n",
       "    <tr>\n",
       "      <th>261</th>\n",
       "      <td>2023-12-07</td>\n",
       "      <td>92.580002</td>\n",
       "      <td>93.529999</td>\n",
       "      <td>91.400002</td>\n",
       "      <td>92.375999</td>\n",
       "      <td>92.375999</td>\n",
       "      <td>0</td>\n",
       "    </tr>\n",
       "    <tr>\n",
       "      <th>260</th>\n",
       "      <td>2023-12-06</td>\n",
       "      <td>90.177498</td>\n",
       "      <td>93.279999</td>\n",
       "      <td>90.177498</td>\n",
       "      <td>90.177498</td>\n",
       "      <td>90.177498</td>\n",
       "      <td>0</td>\n",
       "    </tr>\n",
       "    <tr>\n",
       "      <th>259</th>\n",
       "      <td>2023-12-05</td>\n",
       "      <td>91.464996</td>\n",
       "      <td>92.512497</td>\n",
       "      <td>90.177498</td>\n",
       "      <td>91.464996</td>\n",
       "      <td>91.464996</td>\n",
       "      <td>0</td>\n",
       "    </tr>\n",
       "    <tr>\n",
       "      <th>258</th>\n",
       "      <td>2023-12-04</td>\n",
       "      <td>91.190002</td>\n",
       "      <td>91.589996</td>\n",
       "      <td>90.375000</td>\n",
       "      <td>91.190002</td>\n",
       "      <td>91.190002</td>\n",
       "      <td>0</td>\n",
       "    </tr>\n",
       "    <tr>\n",
       "      <th>257</th>\n",
       "      <td>2023-12-01</td>\n",
       "      <td>89.940002</td>\n",
       "      <td>90.714996</td>\n",
       "      <td>88.644997</td>\n",
       "      <td>89.940002</td>\n",
       "      <td>89.940002</td>\n",
       "      <td>0</td>\n",
       "    </tr>\n",
       "  </tbody>\n",
       "</table>\n",
       "</div>"
      ],
      "text/plain": [
       "          Date       Open       High        Low      Close  Adj Close  Volume\n",
       "261 2023-12-07  92.580002  93.529999  91.400002  92.375999  92.375999       0\n",
       "260 2023-12-06  90.177498  93.279999  90.177498  90.177498  90.177498       0\n",
       "259 2023-12-05  91.464996  92.512497  90.177498  91.464996  91.464996       0\n",
       "258 2023-12-04  91.190002  91.589996  90.375000  91.190002  91.190002       0\n",
       "257 2023-12-01  89.940002  90.714996  88.644997  89.940002  89.940002       0"
      ]
     },
     "execution_count": 225,
     "metadata": {},
     "output_type": "execute_result"
    }
   ],
   "source": [
    "usd_rub['Date'] = usd_rub['Date'].apply(lambda x: datetime.strptime(x, \"%Y-%m-%d\"))\n",
    "usd_rub.sort_values(by = 'Date', ascending=False, inplace=True)\n",
    "usd_rub.head()"
   ]
  },
  {
   "cell_type": "code",
   "execution_count": 226,
   "metadata": {},
   "outputs": [],
   "source": [
    "usd_rub['log_r'] = log_r(usd_rub['Close'], usd_rub['Close'].shift(-1))\n",
    "usd_rub.dropna(axis = 0, how = 'any', inplace= True)"
   ]
  },
  {
   "cell_type": "code",
   "execution_count": 227,
   "metadata": {},
   "outputs": [
    {
     "data": {
      "text/html": [
       "<div>\n",
       "<style scoped>\n",
       "    .dataframe tbody tr th:only-of-type {\n",
       "        vertical-align: middle;\n",
       "    }\n",
       "\n",
       "    .dataframe tbody tr th {\n",
       "        vertical-align: top;\n",
       "    }\n",
       "\n",
       "    .dataframe thead th {\n",
       "        text-align: right;\n",
       "    }\n",
       "</style>\n",
       "<table border=\"1\" class=\"dataframe\">\n",
       "  <thead>\n",
       "    <tr style=\"text-align: right;\">\n",
       "      <th></th>\n",
       "      <th>Date</th>\n",
       "      <th>Close</th>\n",
       "      <th>Close*</th>\n",
       "      <th>log_r_usd</th>\n",
       "      <th>log_r_brent</th>\n",
       "    </tr>\n",
       "  </thead>\n",
       "  <tbody>\n",
       "    <tr>\n",
       "      <th>0</th>\n",
       "      <td>2023-12-07</td>\n",
       "      <td>92.375999</td>\n",
       "      <td>74.03</td>\n",
       "      <td>0.024087</td>\n",
       "      <td>-0.003641</td>\n",
       "    </tr>\n",
       "    <tr>\n",
       "      <th>1</th>\n",
       "      <td>2023-12-06</td>\n",
       "      <td>90.177498</td>\n",
       "      <td>74.30</td>\n",
       "      <td>-0.014176</td>\n",
       "      <td>-0.038289</td>\n",
       "    </tr>\n",
       "    <tr>\n",
       "      <th>2</th>\n",
       "      <td>2023-12-05</td>\n",
       "      <td>91.464996</td>\n",
       "      <td>77.20</td>\n",
       "      <td>0.003011</td>\n",
       "      <td>-0.010694</td>\n",
       "    </tr>\n",
       "    <tr>\n",
       "      <th>3</th>\n",
       "      <td>2023-12-04</td>\n",
       "      <td>91.190002</td>\n",
       "      <td>78.03</td>\n",
       "      <td>0.013802</td>\n",
       "      <td>-0.010834</td>\n",
       "    </tr>\n",
       "    <tr>\n",
       "      <th>4</th>\n",
       "      <td>2023-12-01</td>\n",
       "      <td>89.940002</td>\n",
       "      <td>78.88</td>\n",
       "      <td>0.014278</td>\n",
       "      <td>-0.048863</td>\n",
       "    </tr>\n",
       "  </tbody>\n",
       "</table>\n",
       "</div>"
      ],
      "text/plain": [
       "        Date      Close  Close*  log_r_usd  log_r_brent\n",
       "0 2023-12-07  92.375999   74.03   0.024087    -0.003641\n",
       "1 2023-12-06  90.177498   74.30  -0.014176    -0.038289\n",
       "2 2023-12-05  91.464996   77.20   0.003011    -0.010694\n",
       "3 2023-12-04  91.190002   78.03   0.013802    -0.010834\n",
       "4 2023-12-01  89.940002   78.88   0.014278    -0.048863"
      ]
     },
     "execution_count": 227,
     "metadata": {},
     "output_type": "execute_result"
    }
   ],
   "source": [
    "df = pd.merge(usd_rub, brent, on = 'Date', suffixes=('_usd', '_brent'))[['Date', 'Close', 'Close*', 'log_r_usd', 'log_r_brent']]\n",
    "df.head()"
   ]
  },
  {
   "cell_type": "markdown",
   "metadata": {},
   "source": [
    "Переименуем столбцы, чтобы не путаться"
   ]
  },
  {
   "cell_type": "code",
   "execution_count": 228,
   "metadata": {},
   "outputs": [
    {
     "data": {
      "text/html": [
       "<div>\n",
       "<style scoped>\n",
       "    .dataframe tbody tr th:only-of-type {\n",
       "        vertical-align: middle;\n",
       "    }\n",
       "\n",
       "    .dataframe tbody tr th {\n",
       "        vertical-align: top;\n",
       "    }\n",
       "\n",
       "    .dataframe thead th {\n",
       "        text-align: right;\n",
       "    }\n",
       "</style>\n",
       "<table border=\"1\" class=\"dataframe\">\n",
       "  <thead>\n",
       "    <tr style=\"text-align: right;\">\n",
       "      <th></th>\n",
       "      <th>Date</th>\n",
       "      <th>Price_usd</th>\n",
       "      <th>Price_brent</th>\n",
       "      <th>log_r_usd</th>\n",
       "      <th>log_r_brent</th>\n",
       "    </tr>\n",
       "  </thead>\n",
       "  <tbody>\n",
       "    <tr>\n",
       "      <th>0</th>\n",
       "      <td>2023-12-07</td>\n",
       "      <td>92.375999</td>\n",
       "      <td>74.03</td>\n",
       "      <td>0.024087</td>\n",
       "      <td>-0.003641</td>\n",
       "    </tr>\n",
       "    <tr>\n",
       "      <th>1</th>\n",
       "      <td>2023-12-06</td>\n",
       "      <td>90.177498</td>\n",
       "      <td>74.30</td>\n",
       "      <td>-0.014176</td>\n",
       "      <td>-0.038289</td>\n",
       "    </tr>\n",
       "    <tr>\n",
       "      <th>2</th>\n",
       "      <td>2023-12-05</td>\n",
       "      <td>91.464996</td>\n",
       "      <td>77.20</td>\n",
       "      <td>0.003011</td>\n",
       "      <td>-0.010694</td>\n",
       "    </tr>\n",
       "    <tr>\n",
       "      <th>3</th>\n",
       "      <td>2023-12-04</td>\n",
       "      <td>91.190002</td>\n",
       "      <td>78.03</td>\n",
       "      <td>0.013802</td>\n",
       "      <td>-0.010834</td>\n",
       "    </tr>\n",
       "    <tr>\n",
       "      <th>4</th>\n",
       "      <td>2023-12-01</td>\n",
       "      <td>89.940002</td>\n",
       "      <td>78.88</td>\n",
       "      <td>0.014278</td>\n",
       "      <td>-0.048863</td>\n",
       "    </tr>\n",
       "    <tr>\n",
       "      <th>5</th>\n",
       "      <td>2023-11-30</td>\n",
       "      <td>88.665001</td>\n",
       "      <td>82.83</td>\n",
       "      <td>-0.002028</td>\n",
       "      <td>-0.003254</td>\n",
       "    </tr>\n",
       "    <tr>\n",
       "      <th>6</th>\n",
       "      <td>2023-11-29</td>\n",
       "      <td>88.845001</td>\n",
       "      <td>83.10</td>\n",
       "      <td>-0.002192</td>\n",
       "      <td>0.017236</td>\n",
       "    </tr>\n",
       "    <tr>\n",
       "      <th>7</th>\n",
       "      <td>2023-11-28</td>\n",
       "      <td>89.040001</td>\n",
       "      <td>81.68</td>\n",
       "      <td>-0.002300</td>\n",
       "      <td>0.021033</td>\n",
       "    </tr>\n",
       "    <tr>\n",
       "      <th>8</th>\n",
       "      <td>2023-11-27</td>\n",
       "      <td>89.245003</td>\n",
       "      <td>79.98</td>\n",
       "      <td>0.011325</td>\n",
       "      <td>-0.007474</td>\n",
       "    </tr>\n",
       "    <tr>\n",
       "      <th>9</th>\n",
       "      <td>2023-11-24</td>\n",
       "      <td>88.239998</td>\n",
       "      <td>80.58</td>\n",
       "      <td>-0.001416</td>\n",
       "      <td>-0.009756</td>\n",
       "    </tr>\n",
       "    <tr>\n",
       "      <th>10</th>\n",
       "      <td>2023-11-23</td>\n",
       "      <td>88.364998</td>\n",
       "      <td>81.37</td>\n",
       "      <td>0.001756</td>\n",
       "      <td>-0.007225</td>\n",
       "    </tr>\n",
       "    <tr>\n",
       "      <th>11</th>\n",
       "      <td>2023-11-22</td>\n",
       "      <td>88.209999</td>\n",
       "      <td>81.96</td>\n",
       "      <td>-0.003508</td>\n",
       "      <td>-0.005961</td>\n",
       "    </tr>\n",
       "    <tr>\n",
       "      <th>12</th>\n",
       "      <td>2023-11-21</td>\n",
       "      <td>88.519997</td>\n",
       "      <td>82.45</td>\n",
       "      <td>-0.009221</td>\n",
       "      <td>0.001578</td>\n",
       "    </tr>\n",
       "    <tr>\n",
       "      <th>13</th>\n",
       "      <td>2023-11-20</td>\n",
       "      <td>89.339996</td>\n",
       "      <td>82.32</td>\n",
       "      <td>0.000280</td>\n",
       "      <td>0.020991</td>\n",
       "    </tr>\n",
       "    <tr>\n",
       "      <th>14</th>\n",
       "      <td>2023-11-17</td>\n",
       "      <td>89.315002</td>\n",
       "      <td>80.61</td>\n",
       "      <td>-0.001175</td>\n",
       "      <td>0.040378</td>\n",
       "    </tr>\n",
       "  </tbody>\n",
       "</table>\n",
       "</div>"
      ],
      "text/plain": [
       "         Date  Price_usd  Price_brent  log_r_usd  log_r_brent\n",
       "0  2023-12-07  92.375999        74.03   0.024087    -0.003641\n",
       "1  2023-12-06  90.177498        74.30  -0.014176    -0.038289\n",
       "2  2023-12-05  91.464996        77.20   0.003011    -0.010694\n",
       "3  2023-12-04  91.190002        78.03   0.013802    -0.010834\n",
       "4  2023-12-01  89.940002        78.88   0.014278    -0.048863\n",
       "5  2023-11-30  88.665001        82.83  -0.002028    -0.003254\n",
       "6  2023-11-29  88.845001        83.10  -0.002192     0.017236\n",
       "7  2023-11-28  89.040001        81.68  -0.002300     0.021033\n",
       "8  2023-11-27  89.245003        79.98   0.011325    -0.007474\n",
       "9  2023-11-24  88.239998        80.58  -0.001416    -0.009756\n",
       "10 2023-11-23  88.364998        81.37   0.001756    -0.007225\n",
       "11 2023-11-22  88.209999        81.96  -0.003508    -0.005961\n",
       "12 2023-11-21  88.519997        82.45  -0.009221     0.001578\n",
       "13 2023-11-20  89.339996        82.32   0.000280     0.020991\n",
       "14 2023-11-17  89.315002        80.61  -0.001175     0.040378"
      ]
     },
     "execution_count": 228,
     "metadata": {},
     "output_type": "execute_result"
    }
   ],
   "source": [
    "df.rename(columns={'Close':'Price_usd', 'Close*':'Price_brent'}, inplace= True)\n",
    "df.head(15)"
   ]
  },
  {
   "cell_type": "markdown",
   "metadata": {},
   "source": [
    "Найдем log-изменения для доллара и уберем цену открытия"
   ]
  },
  {
   "cell_type": "markdown",
   "metadata": {},
   "source": [
    "Регрессия в sklearn отлично подходит для задач машинного обучения, но мы будем использовать statmodels, так как там есть хорошая функция summary с нужными нам метриками. \n",
    "### Метрики и их интепретация - сначала для модели абсолютных значений, потом - лог-изменения: "
   ]
  },
  {
   "cell_type": "code",
   "execution_count": 229,
   "metadata": {},
   "outputs": [
    {
     "name": "stdout",
     "output_type": "stream",
     "text": [
      "                            OLS Regression Results                            \n",
      "==============================================================================\n",
      "Dep. Variable:              Price_usd   R-squared:                       0.143\n",
      "Model:                            OLS   Adj. R-squared:                  0.139\n",
      "Method:                 Least Squares   F-statistic:                     36.65\n",
      "Date:                Sat, 09 Dec 2023   Prob (F-statistic):           6.05e-09\n",
      "Time:                        13:49:21   Log-Likelihood:                -838.59\n",
      "No. Observations:                 222   AIC:                             1681.\n",
      "Df Residuals:                     220   BIC:                             1688.\n",
      "Df Model:                           1                                         \n",
      "Covariance Type:            nonrobust                                         \n",
      "===============================================================================\n",
      "                  coef    std err          t      P>|t|      [0.025      0.975]\n",
      "-------------------------------------------------------------------------------\n",
      "const          17.0701     10.935      1.561      0.120      -4.480      38.620\n",
      "Price_brent     0.8025      0.133      6.054      0.000       0.541       1.064\n",
      "==============================================================================\n",
      "Omnibus:                       99.421   Durbin-Watson:                   0.425\n",
      "Prob(Omnibus):                  0.000   Jarque-Bera (JB):              584.543\n",
      "Skew:                          -1.650   Prob(JB):                    1.17e-127\n",
      "Kurtosis:                      10.233   Cond. No.                     1.27e+03\n",
      "==============================================================================\n",
      "\n",
      "Warnings:\n",
      "[1] Standard Errors assume that the covariance matrix of the errors is correctly specified.\n",
      "[2] The condition number is large, 1.27e+03. This might indicate that there are\n",
      "strong multicollinearity or other numerical problems.\n"
     ]
    }
   ],
   "source": [
    "import statsmodels.api as sm\n",
    "X = df[['Price_brent']]\n",
    "y= df['Price_usd']\n",
    "X = sm.add_constant(X)\n",
    "\n",
    "model_absolute = sm.OLS(y, X)\n",
    "results = model_absolute.fit()\n",
    "print(results.summary())"
   ]
  },
  {
   "cell_type": "markdown",
   "metadata": {},
   "source": [
    "$R^2$ очень низкий. Хорошее значение теста Фишера: вероятность того, что цена доллара лучше описыватает константон - почти нуделева. Отрицательное правдоподобие - тоже плохо. t-статистика для цены на нефть высокая, настолько что P>|t| почти ноль, что должно говорить значимости коэффициента перед ценой нефти. Очень высокие показатели AIC BIC, что должно говорить о переученности.\n",
    "По савокупности, я бы не пользовался этой моедлью"
   ]
  },
  {
   "cell_type": "code",
   "execution_count": 230,
   "metadata": {},
   "outputs": [
    {
     "name": "stdout",
     "output_type": "stream",
     "text": [
      "                            OLS Regression Results                            \n",
      "==============================================================================\n",
      "Dep. Variable:              log_r_usd   R-squared:                       0.005\n",
      "Model:                            OLS   Adj. R-squared:                  0.001\n",
      "Method:                 Least Squares   F-statistic:                     1.139\n",
      "Date:                Sat, 09 Dec 2023   Prob (F-statistic):              0.287\n",
      "Time:                        13:49:21   Log-Likelihood:                 62.802\n",
      "No. Observations:                 222   AIC:                            -121.6\n",
      "Df Residuals:                     220   BIC:                            -114.8\n",
      "Df Model:                           1                                         \n",
      "Covariance Type:            nonrobust                                         \n",
      "===============================================================================\n",
      "                  coef    std err          t      P>|t|      [0.025      0.975]\n",
      "-------------------------------------------------------------------------------\n",
      "const          -0.0100      0.012     -0.815      0.416      -0.034       0.014\n",
      "log_r_brent     0.6606      0.619      1.067      0.287      -0.559       1.881\n",
      "==============================================================================\n",
      "Omnibus:                      492.067   Durbin-Watson:                   2.000\n",
      "Prob(Omnibus):                  0.000   Jarque-Bera (JB):           419491.249\n",
      "Skew:                         -14.491   Prob(JB):                         0.00\n",
      "Kurtosis:                     213.975   Cond. No.                         50.4\n",
      "==============================================================================\n",
      "\n",
      "Warnings:\n",
      "[1] Standard Errors assume that the covariance matrix of the errors is correctly specified.\n"
     ]
    }
   ],
   "source": [
    "X = df[['log_r_brent']]\n",
    "y= df['log_r_usd']\n",
    "X = sm.add_constant(X)\n",
    "\n",
    "model_log_r = sm.OLS(y, X)\n",
    "results = model_log_r.fit()\n",
    "print(results.summary())"
   ]
  },
  {
   "cell_type": "markdown",
   "metadata": {},
   "source": [
    "Метрики этой логарифмической модели даже хуже. $R^2$ почти ноль. Статистика Фишера низкая и вероятность, что коэффичент перед log-изменением цены брента 0 с вероятностью 0,34, что много. P>|t| принимают большие значения (обычно сравнивают с 0,05), и оба коэффициента могут быть отброшены. Как и сама модель"
   ]
  },
  {
   "cell_type": "markdown",
   "metadata": {},
   "source": [
    "### Вывод:\n",
    "2022-2023 годы оказались периодами, когда традиционная связь между ценой нефти и курсом доллара (и между их изменениями) была нарушена. Российская нефть продается с переменным дисконтом к брент, наблидается задержка между изменениями цены на нефть и поступлениями валюту в страну, свущественные корректировки вносили крупные сделки выкупа иностранных активов в РФ, попытки государства управлять курсом, политические события, динамика импорта, а также оторванность нашей финансовой системы от мировой (РФ банки в санкциях, иностранные - ушли из России или не имеют значимых лимитов на РФ рынок). Эти и другие причины повлияли на динамику курса рубля, по всей видимости, существенно больше, чем цена нефти марки Брент"
   ]
  },
  {
   "cell_type": "markdown",
   "metadata": {},
   "source": [
    "Подвергнем вывод сомнению и задумаемся, нет ли ошибки работы с данными"
   ]
  },
  {
   "cell_type": "code",
   "execution_count": 231,
   "metadata": {},
   "outputs": [],
   "source": [
    "import matplotlib.pyplot as plt"
   ]
  },
  {
   "cell_type": "code",
   "execution_count": 232,
   "metadata": {},
   "outputs": [
    {
     "data": {
      "text/html": [
       "<div>\n",
       "<style scoped>\n",
       "    .dataframe tbody tr th:only-of-type {\n",
       "        vertical-align: middle;\n",
       "    }\n",
       "\n",
       "    .dataframe tbody tr th {\n",
       "        vertical-align: top;\n",
       "    }\n",
       "\n",
       "    .dataframe thead th {\n",
       "        text-align: right;\n",
       "    }\n",
       "</style>\n",
       "<table border=\"1\" class=\"dataframe\">\n",
       "  <thead>\n",
       "    <tr style=\"text-align: right;\">\n",
       "      <th></th>\n",
       "      <th>Price_usd</th>\n",
       "      <th>Price_brent</th>\n",
       "      <th>log_r_usd</th>\n",
       "      <th>log_r_brent</th>\n",
       "    </tr>\n",
       "  </thead>\n",
       "  <tbody>\n",
       "    <tr>\n",
       "      <th>count</th>\n",
       "      <td>222.000000</td>\n",
       "      <td>222.000000</td>\n",
       "      <td>222.000000</td>\n",
       "      <td>222.000000</td>\n",
       "    </tr>\n",
       "    <tr>\n",
       "      <th>mean</th>\n",
       "      <td>83.123635</td>\n",
       "      <td>82.313784</td>\n",
       "      <td>-0.010099</td>\n",
       "      <td>-0.000126</td>\n",
       "    </tr>\n",
       "    <tr>\n",
       "      <th>std</th>\n",
       "      <td>11.447481</td>\n",
       "      <td>5.390585</td>\n",
       "      <td>0.183234</td>\n",
       "      <td>0.019905</td>\n",
       "    </tr>\n",
       "    <tr>\n",
       "      <th>min</th>\n",
       "      <td>5.000000</td>\n",
       "      <td>72.260000</td>\n",
       "      <td>-2.717538</td>\n",
       "      <td>-0.057844</td>\n",
       "    </tr>\n",
       "    <tr>\n",
       "      <th>25%</th>\n",
       "      <td>75.364998</td>\n",
       "      <td>78.092500</td>\n",
       "      <td>-0.004421</td>\n",
       "      <td>-0.012072</td>\n",
       "    </tr>\n",
       "    <tr>\n",
       "      <th>50%</th>\n",
       "      <td>81.764999</td>\n",
       "      <td>82.590000</td>\n",
       "      <td>0.002204</td>\n",
       "      <td>0.001948</td>\n",
       "    </tr>\n",
       "    <tr>\n",
       "      <th>75%</th>\n",
       "      <td>92.323749</td>\n",
       "      <td>85.760000</td>\n",
       "      <td>0.009323</td>\n",
       "      <td>0.013756</td>\n",
       "    </tr>\n",
       "    <tr>\n",
       "      <th>max</th>\n",
       "      <td>100.964996</td>\n",
       "      <td>96.550000</td>\n",
       "      <td>0.072493</td>\n",
       "      <td>0.055303</td>\n",
       "    </tr>\n",
       "  </tbody>\n",
       "</table>\n",
       "</div>"
      ],
      "text/plain": [
       "        Price_usd  Price_brent   log_r_usd  log_r_brent\n",
       "count  222.000000   222.000000  222.000000   222.000000\n",
       "mean    83.123635    82.313784   -0.010099    -0.000126\n",
       "std     11.447481     5.390585    0.183234     0.019905\n",
       "min      5.000000    72.260000   -2.717538    -0.057844\n",
       "25%     75.364998    78.092500   -0.004421    -0.012072\n",
       "50%     81.764999    82.590000    0.002204     0.001948\n",
       "75%     92.323749    85.760000    0.009323     0.013756\n",
       "max    100.964996    96.550000    0.072493     0.055303"
      ]
     },
     "execution_count": 232,
     "metadata": {},
     "output_type": "execute_result"
    }
   ],
   "source": [
    "df.describe()"
   ]
  },
  {
   "cell_type": "code",
   "execution_count": 233,
   "metadata": {},
   "outputs": [
    {
     "data": {
      "text/plain": [
       "<matplotlib.axes._subplots.AxesSubplot at 0x7fba0979f190>"
      ]
     },
     "execution_count": 233,
     "metadata": {},
     "output_type": "execute_result"
    },
    {
     "data": {
      "image/png": "[encoded data removed]",
      "text/plain": [
       "<Figure size 432x288 with 1 Axes>"
      ]
     },
     "metadata": {
      "needs_background": "light"
     },
     "output_type": "display_data"
    },
    {
     "data": {
      "image/png": "[encoded data removed]",
      "text/plain": [
       "<Figure size 432x288 with 1 Axes>"
      ]
     },
     "metadata": {
      "needs_background": "light"
     },
     "output_type": "display_data"
    }
   ],
   "source": [
    "df.plot(kind='scatter', \n",
    "        x='Price_brent', \n",
    "        y='Price_usd', \n",
    "        title='Корреляция между ценой нефти и курсом доллара')\n",
    "\n",
    "df.plot(kind='scatter', \n",
    "        x='log_r_brent', \n",
    "        y='log_r_usd', \n",
    "        title='Корреляция между log приростами цены на нефть и курсом доллара')\n"
   ]
  },
  {
   "cell_type": "markdown",
   "metadata": {},
   "source": [
    "Может, все дело в выбросах? Уберем их"
   ]
  },
  {
   "cell_type": "code",
   "execution_count": 234,
   "metadata": {},
   "outputs": [],
   "source": [
    "low = .05\n",
    "high = .95\n",
    "quant_df = df.quantile([low, high])\n",
    "quant_df.head()\n",
    "\n",
    "filt_df = df[['Price_usd', 'Price_brent', 'log_r_brent', 'log_r_usd']].apply(lambda x: x[(x>quant_df.loc[low,x.name]) & (x < quant_df.loc[high,x.name])], axis=0)\n",
    "filt_df.dropna(axis = 0, inplace=True)"
   ]
  },
  {
   "cell_type": "code",
   "execution_count": 235,
   "metadata": {},
   "outputs": [
    {
     "data": {
      "text/html": [
       "<div>\n",
       "<style scoped>\n",
       "    .dataframe tbody tr th:only-of-type {\n",
       "        vertical-align: middle;\n",
       "    }\n",
       "\n",
       "    .dataframe tbody tr th {\n",
       "        vertical-align: top;\n",
       "    }\n",
       "\n",
       "    .dataframe thead th {\n",
       "        text-align: right;\n",
       "    }\n",
       "</style>\n",
       "<table border=\"1\" class=\"dataframe\">\n",
       "  <thead>\n",
       "    <tr style=\"text-align: right;\">\n",
       "      <th></th>\n",
       "      <th>Price_usd</th>\n",
       "      <th>Price_brent</th>\n",
       "      <th>log_r_brent</th>\n",
       "      <th>log_r_usd</th>\n",
       "    </tr>\n",
       "  </thead>\n",
       "  <tbody>\n",
       "    <tr>\n",
       "      <th>count</th>\n",
       "      <td>147.000000</td>\n",
       "      <td>147.000000</td>\n",
       "      <td>147.000000</td>\n",
       "      <td>147.000000</td>\n",
       "    </tr>\n",
       "    <tr>\n",
       "      <th>mean</th>\n",
       "      <td>83.561298</td>\n",
       "      <td>82.062993</td>\n",
       "      <td>0.000851</td>\n",
       "      <td>0.001909</td>\n",
       "    </tr>\n",
       "    <tr>\n",
       "      <th>std</th>\n",
       "      <td>8.651463</td>\n",
       "      <td>4.356650</td>\n",
       "      <td>0.015183</td>\n",
       "      <td>0.008283</td>\n",
       "    </tr>\n",
       "    <tr>\n",
       "      <th>min</th>\n",
       "      <td>68.464996</td>\n",
       "      <td>74.170000</td>\n",
       "      <td>-0.038879</td>\n",
       "      <td>-0.018025</td>\n",
       "    </tr>\n",
       "    <tr>\n",
       "      <th>25%</th>\n",
       "      <td>75.997501</td>\n",
       "      <td>78.520000</td>\n",
       "      <td>-0.009781</td>\n",
       "      <td>-0.003317</td>\n",
       "    </tr>\n",
       "    <tr>\n",
       "      <th>50%</th>\n",
       "      <td>81.665001</td>\n",
       "      <td>82.660000</td>\n",
       "      <td>0.002263</td>\n",
       "      <td>0.001331</td>\n",
       "    </tr>\n",
       "    <tr>\n",
       "      <th>75%</th>\n",
       "      <td>91.344997</td>\n",
       "      <td>85.160000</td>\n",
       "      <td>0.013633</td>\n",
       "      <td>0.008181</td>\n",
       "    </tr>\n",
       "    <tr>\n",
       "      <th>max</th>\n",
       "      <td>97.714996</td>\n",
       "      <td>92.060000</td>\n",
       "      <td>0.026439</td>\n",
       "      <td>0.023647</td>\n",
       "    </tr>\n",
       "  </tbody>\n",
       "</table>\n",
       "</div>"
      ],
      "text/plain": [
       "        Price_usd  Price_brent  log_r_brent   log_r_usd\n",
       "count  147.000000   147.000000   147.000000  147.000000\n",
       "mean    83.561298    82.062993     0.000851    0.001909\n",
       "std      8.651463     4.356650     0.015183    0.008283\n",
       "min     68.464996    74.170000    -0.038879   -0.018025\n",
       "25%     75.997501    78.520000    -0.009781   -0.003317\n",
       "50%     81.665001    82.660000     0.002263    0.001331\n",
       "75%     91.344997    85.160000     0.013633    0.008181\n",
       "max     97.714996    92.060000     0.026439    0.023647"
      ]
     },
     "execution_count": 235,
     "metadata": {},
     "output_type": "execute_result"
    }
   ],
   "source": [
    "filt_df.describe()"
   ]
  },
  {
   "cell_type": "code",
   "execution_count": 236,
   "metadata": {},
   "outputs": [
    {
     "data": {
      "text/plain": [
       "<matplotlib.axes._subplots.AxesSubplot at 0x7fba09831e20>"
      ]
     },
     "execution_count": 236,
     "metadata": {},
     "output_type": "execute_result"
    },
    {
     "data": {
      "image/png": "[encoded data removed]",
      "text/plain": [
       "<Figure size 432x288 with 1 Axes>"
      ]
     },
     "metadata": {
      "needs_background": "light"
     },
     "output_type": "display_data"
    },
    {
     "data": {
      "image/png": "[encoded data removed]",
      "text/plain": [
       "<Figure size 432x288 with 1 Axes>"
      ]
     },
     "metadata": {
      "needs_background": "light"
     },
     "output_type": "display_data"
    }
   ],
   "source": [
    "filt_df.plot(kind='scatter', \n",
    "        x='Price_brent', \n",
    "        y='Price_usd', \n",
    "        title='Корреляция между ценой нефти и курсом доллара. Без выбросов')\n",
    "\n",
    "filt_df.plot(kind='scatter', \n",
    "        x='log_r_brent', \n",
    "        y='log_r_usd', \n",
    "        title='Корреляция между log приростами цены на нефть и курсом доллара. Без выбросов')"
   ]
  },
  {
   "cell_type": "markdown",
   "metadata": {},
   "source": [
    "Построим модель на данных без выбросов и посмотрим на её метрики"
   ]
  },
  {
   "cell_type": "code",
   "execution_count": 237,
   "metadata": {},
   "outputs": [
    {
     "name": "stdout",
     "output_type": "stream",
     "text": [
      "                            OLS Regression Results                            \n",
      "==============================================================================\n",
      "Dep. Variable:              log_r_usd   R-squared:                       0.035\n",
      "Model:                            OLS   Adj. R-squared:                  0.029\n",
      "Method:                 Least Squares   F-statistic:                     5.319\n",
      "Date:                Sat, 09 Dec 2023   Prob (F-statistic):             0.0225\n",
      "Time:                        13:49:22   Log-Likelihood:                 499.23\n",
      "No. Observations:                 147   AIC:                            -994.5\n",
      "Df Residuals:                     145   BIC:                            -988.5\n",
      "Df Model:                           1                                         \n",
      "Covariance Type:            nonrobust                                         \n",
      "===============================================================================\n",
      "                  coef    std err          t      P>|t|      [0.025      0.975]\n",
      "-------------------------------------------------------------------------------\n",
      "const           0.0018      0.001      2.702      0.008       0.000       0.003\n",
      "log_r_brent     0.1026      0.044      2.306      0.023       0.015       0.191\n",
      "==============================================================================\n",
      "Omnibus:                        1.100   Durbin-Watson:                   2.151\n",
      "Prob(Omnibus):                  0.577   Jarque-Bera (JB):                1.184\n",
      "Skew:                           0.196   Prob(JB):                        0.553\n",
      "Kurtosis:                       2.800   Cond. No.                         66.1\n",
      "==============================================================================\n",
      "\n",
      "Warnings:\n",
      "[1] Standard Errors assume that the covariance matrix of the errors is correctly specified.\n"
     ]
    }
   ],
   "source": [
    "X = filt_df[['log_r_brent']]\n",
    "y= filt_df['log_r_usd']\n",
    "X = sm.add_constant(X)\n",
    "\n",
    "model_log_r = sm.OLS(y, X)\n",
    "results = model_log_r.fit()\n",
    "print(results.summary())"
   ]
  },
  {
   "cell_type": "markdown",
   "metadata": {},
   "source": [
    "Метрики модели улучшились: немного $R^2$, немного t статистика для переменной log_r_brent. Но в целом, конечно, модель очень плоха и в терминах $R^2$, и по критерию Стьюдента для объяниющей переменной"
   ]
  },
  {
   "cell_type": "markdown",
   "metadata": {},
   "source": [
    "# Задача 5"
   ]
  },
  {
   "cell_type": "markdown",
   "metadata": {},
   "source": [
    "Статистика Дабрина-Уотсона дает значания очень близкие к 2 для log-модели как с выбросами, так и без - посередине интервала [0, 4]. Можно сделать вывод об отсутствии автокорреляции "
   ]
  }
 ],
 "metadata": {
  "kernelspec": {
   "display_name": "base",
   "language": "python",
   "name": "python3"
  },
  "language_info": {
   "codemirror_mode": {
    "name": "ipython",
    "version": 3
   },
   "file_extension": ".py",
   "mimetype": "text/x-python",
   "name": "python",
   "nbconvert_exporter": "python",
   "pygments_lexer": "ipython3",
   "version": "3.8.3"
  }
 },
 "nbformat": 4,
 "nbformat_minor": 2
}
