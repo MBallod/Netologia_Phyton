{
 "cells": [
  {
   "cell_type": "markdown",
   "metadata": {},
   "source": [
    "Времени на этой неделе мало, поэтому я сделал только 2 первые задачи"
   ]
  },
  {
   "cell_type": "code",
   "execution_count": 138,
   "metadata": {},
   "outputs": [],
   "source": [
    "import pandas as pd\n",
    "import numpy as np"
   ]
  },
  {
   "cell_type": "code",
   "execution_count": 139,
   "metadata": {},
   "outputs": [],
   "source": [
    "brent = pd.read_csv('Brent_price.csv', sep=';')"
   ]
  },
  {
   "cell_type": "code",
   "execution_count": 140,
   "metadata": {},
   "outputs": [
    {
     "data": {
      "text/html": [
       "<div>\n",
       "<style scoped>\n",
       "    .dataframe tbody tr th:only-of-type {\n",
       "        vertical-align: middle;\n",
       "    }\n",
       "\n",
       "    .dataframe tbody tr th {\n",
       "        vertical-align: top;\n",
       "    }\n",
       "\n",
       "    .dataframe thead th {\n",
       "        text-align: right;\n",
       "    }\n",
       "</style>\n",
       "<table border=\"1\" class=\"dataframe\">\n",
       "  <thead>\n",
       "    <tr style=\"text-align: right;\">\n",
       "      <th></th>\n",
       "      <th>Date</th>\n",
       "      <th>Open</th>\n",
       "      <th>High</th>\n",
       "      <th>Low</th>\n",
       "      <th>Close*</th>\n",
       "      <th>Adj Close**</th>\n",
       "      <th>Volume</th>\n",
       "    </tr>\n",
       "  </thead>\n",
       "  <tbody>\n",
       "    <tr>\n",
       "      <th>0</th>\n",
       "      <td>Dec 07, 2023</td>\n",
       "      <td>74.30</td>\n",
       "      <td>75.48</td>\n",
       "      <td>73.61</td>\n",
       "      <td>74.03</td>\n",
       "      <td>74.03</td>\n",
       "      <td>24,213</td>\n",
       "    </tr>\n",
       "    <tr>\n",
       "      <th>1</th>\n",
       "      <td>Dec 06, 2023</td>\n",
       "      <td>77.06</td>\n",
       "      <td>77.63</td>\n",
       "      <td>74.11</td>\n",
       "      <td>74.30</td>\n",
       "      <td>74.30</td>\n",
       "      <td>30,931</td>\n",
       "    </tr>\n",
       "    <tr>\n",
       "      <th>2</th>\n",
       "      <td>Dec 05, 2023</td>\n",
       "      <td>78.20</td>\n",
       "      <td>79.07</td>\n",
       "      <td>76.98</td>\n",
       "      <td>77.20</td>\n",
       "      <td>77.20</td>\n",
       "      <td>30,931</td>\n",
       "    </tr>\n",
       "    <tr>\n",
       "      <th>3</th>\n",
       "      <td>Dec 04, 2023</td>\n",
       "      <td>79.43</td>\n",
       "      <td>79.66</td>\n",
       "      <td>77.52</td>\n",
       "      <td>78.03</td>\n",
       "      <td>78.03</td>\n",
       "      <td>32,582</td>\n",
       "    </tr>\n",
       "    <tr>\n",
       "      <th>4</th>\n",
       "      <td>Dec 01, 2023</td>\n",
       "      <td>80.47</td>\n",
       "      <td>81.52</td>\n",
       "      <td>78.75</td>\n",
       "      <td>78.88</td>\n",
       "      <td>78.88</td>\n",
       "      <td>29,551</td>\n",
       "    </tr>\n",
       "  </tbody>\n",
       "</table>\n",
       "</div>"
      ],
      "text/plain": [
       "           Date   Open   High    Low  Close*  Adj Close**  Volume\n",
       "0  Dec 07, 2023  74.30  75.48  73.61   74.03        74.03  24,213\n",
       "1  Dec 06, 2023  77.06  77.63  74.11   74.30        74.30  30,931\n",
       "2  Dec 05, 2023  78.20  79.07  76.98   77.20        77.20  30,931\n",
       "3  Dec 04, 2023  79.43  79.66  77.52   78.03        78.03  32,582\n",
       "4  Dec 01, 2023  80.47  81.52  78.75   78.88        78.88  29,551"
      ]
     },
     "execution_count": 140,
     "metadata": {},
     "output_type": "execute_result"
    }
   ],
   "source": [
    "brent.head()"
   ]
  },
  {
   "cell_type": "code",
   "execution_count": 141,
   "metadata": {},
   "outputs": [],
   "source": [
    "from statsmodels.tsa.stattools import adfuller"
   ]
  },
  {
   "cell_type": "markdown",
   "metadata": {},
   "source": [
    "Зададим функцию с расширенным тестом Дики-Фуллера, которую будем использовать для решения 1 и 2 задачи"
   ]
  },
  {
   "cell_type": "code",
   "execution_count": 142,
   "metadata": {},
   "outputs": [],
   "source": [
    "def ADF_test(x, alfa = 0.1):\n",
    "    result = adfuller(x)\n",
    "    \n",
    "    print('Значение тест ADF (Расширенный тест Дики-Фуллера) для цены брента: %f' % result[0])\n",
    "    print('p-value: %f' % result[1])\n",
    "    print('Критические значения:')\n",
    "    \n",
    "    for key, value in result[4].items():\n",
    "        print('\\t%s: %.3f' % (key, value))\n",
    "    \n",
    "    return result [1]< alfa\n"
   ]
  },
  {
   "cell_type": "code",
   "execution_count": 143,
   "metadata": {},
   "outputs": [],
   "source": [
    "def log_r(x,y):\n",
    "    return np.log(x) - np.log(y)"
   ]
  },
  {
   "cell_type": "markdown",
   "metadata": {},
   "source": [
    "# Задача 1"
   ]
  },
  {
   "cell_type": "code",
   "execution_count": 144,
   "metadata": {},
   "outputs": [
    {
     "name": "stdout",
     "output_type": "stream",
     "text": [
      "Значение тест ADF (Расширенный тест Дики-Фуллера) для цены брента: -2.395073\n",
      "p-value: 0.143132\n",
      "Критические значения:\n",
      "\t1%: -3.457\n",
      "\t5%: -2.873\n",
      "\t10%: -2.573\n",
      "Нельзя сказать, что стационарный с вероятностью > 0.9\n"
     ]
    }
   ],
   "source": [
    "p = 0.9\n",
    "print('Стационарный вероятностью >' if ADF_test(brent['Close*'], 1-p) else 'Нельзя сказать, что стационарный с вероятностью >', p)"
   ]
  },
  {
   "cell_type": "markdown",
   "metadata": {},
   "source": [
    "Значение теста больше 10%-критического значение (p-value больше 10%). Нельзя сказать, что временной ряд стационарен с вероятностью высокой веротностью (90% и выше)"
   ]
  },
  {
   "cell_type": "markdown",
   "metadata": {},
   "source": [
    "# Задача 2"
   ]
  },
  {
   "cell_type": "code",
   "execution_count": 145,
   "metadata": {},
   "outputs": [],
   "source": [
    "brent['log_r'] = brent.apply(lambda x: log_r(x['Close*'], x['Open']), axis=1)"
   ]
  },
  {
   "cell_type": "code",
   "execution_count": 146,
   "metadata": {},
   "outputs": [
    {
     "data": {
      "text/html": [
       "<div>\n",
       "<style scoped>\n",
       "    .dataframe tbody tr th:only-of-type {\n",
       "        vertical-align: middle;\n",
       "    }\n",
       "\n",
       "    .dataframe tbody tr th {\n",
       "        vertical-align: top;\n",
       "    }\n",
       "\n",
       "    .dataframe thead th {\n",
       "        text-align: right;\n",
       "    }\n",
       "</style>\n",
       "<table border=\"1\" class=\"dataframe\">\n",
       "  <thead>\n",
       "    <tr style=\"text-align: right;\">\n",
       "      <th></th>\n",
       "      <th>Date</th>\n",
       "      <th>Open</th>\n",
       "      <th>High</th>\n",
       "      <th>Low</th>\n",
       "      <th>Close*</th>\n",
       "      <th>Adj Close**</th>\n",
       "      <th>Volume</th>\n",
       "      <th>log_r</th>\n",
       "    </tr>\n",
       "  </thead>\n",
       "  <tbody>\n",
       "    <tr>\n",
       "      <th>0</th>\n",
       "      <td>Dec 07, 2023</td>\n",
       "      <td>74.30</td>\n",
       "      <td>75.48</td>\n",
       "      <td>73.61</td>\n",
       "      <td>74.03</td>\n",
       "      <td>74.03</td>\n",
       "      <td>24,213</td>\n",
       "      <td>-0.003641</td>\n",
       "    </tr>\n",
       "    <tr>\n",
       "      <th>1</th>\n",
       "      <td>Dec 06, 2023</td>\n",
       "      <td>77.06</td>\n",
       "      <td>77.63</td>\n",
       "      <td>74.11</td>\n",
       "      <td>74.30</td>\n",
       "      <td>74.30</td>\n",
       "      <td>30,931</td>\n",
       "      <td>-0.036473</td>\n",
       "    </tr>\n",
       "    <tr>\n",
       "      <th>2</th>\n",
       "      <td>Dec 05, 2023</td>\n",
       "      <td>78.20</td>\n",
       "      <td>79.07</td>\n",
       "      <td>76.98</td>\n",
       "      <td>77.20</td>\n",
       "      <td>77.20</td>\n",
       "      <td>30,931</td>\n",
       "      <td>-0.012870</td>\n",
       "    </tr>\n",
       "    <tr>\n",
       "      <th>3</th>\n",
       "      <td>Dec 04, 2023</td>\n",
       "      <td>79.43</td>\n",
       "      <td>79.66</td>\n",
       "      <td>77.52</td>\n",
       "      <td>78.03</td>\n",
       "      <td>78.03</td>\n",
       "      <td>32,582</td>\n",
       "      <td>-0.017783</td>\n",
       "    </tr>\n",
       "    <tr>\n",
       "      <th>4</th>\n",
       "      <td>Dec 01, 2023</td>\n",
       "      <td>80.47</td>\n",
       "      <td>81.52</td>\n",
       "      <td>78.75</td>\n",
       "      <td>78.88</td>\n",
       "      <td>78.88</td>\n",
       "      <td>29,551</td>\n",
       "      <td>-0.019957</td>\n",
       "    </tr>\n",
       "  </tbody>\n",
       "</table>\n",
       "</div>"
      ],
      "text/plain": [
       "           Date   Open   High    Low  Close*  Adj Close**  Volume     log_r\n",
       "0  Dec 07, 2023  74.30  75.48  73.61   74.03        74.03  24,213 -0.003641\n",
       "1  Dec 06, 2023  77.06  77.63  74.11   74.30        74.30  30,931 -0.036473\n",
       "2  Dec 05, 2023  78.20  79.07  76.98   77.20        77.20  30,931 -0.012870\n",
       "3  Dec 04, 2023  79.43  79.66  77.52   78.03        78.03  32,582 -0.017783\n",
       "4  Dec 01, 2023  80.47  81.52  78.75   78.88        78.88  29,551 -0.019957"
      ]
     },
     "execution_count": 146,
     "metadata": {},
     "output_type": "execute_result"
    }
   ],
   "source": [
    "brent.head()"
   ]
  },
  {
   "cell_type": "code",
   "execution_count": 147,
   "metadata": {},
   "outputs": [
    {
     "name": "stdout",
     "output_type": "stream",
     "text": [
      "Значение тест ADF (Расширенный тест Дики-Фуллера) для цены брента: -10.518613\n",
      "p-value: 0.000000\n",
      "Критические значения:\n",
      "\t1%: -3.457\n",
      "\t5%: -2.873\n",
      "\t10%: -2.573\n",
      "Стационарный вероятностью > 0.99\n"
     ]
    }
   ],
   "source": [
    "p = 0.99\n",
    "print('Стационарный вероятностью >' if ADF_test(brent['log_r'], 1-p) else 'Нельзя сказать, что стационарный с вероятностью >', p)"
   ]
  },
  {
   "cell_type": "markdown",
   "metadata": {},
   "source": [
    "adfuller посчитал нам совсем низкий p-value и это хорошо, но подозрительно. Тем не менее, сравнивая значения статистики с критическими значениями, приходим к тому же выводу"
   ]
  },
  {
   "cell_type": "markdown",
   "metadata": {},
   "source": [
    "# Задачи 3 и 4"
   ]
  },
  {
   "cell_type": "code",
   "execution_count": 148,
   "metadata": {},
   "outputs": [],
   "source": [
    "usd_rub = pd.read_csv('RUBUSD.csv', sep=',')"
   ]
  },
  {
   "cell_type": "code",
   "execution_count": 149,
   "metadata": {},
   "outputs": [
    {
     "data": {
      "text/plain": [
       "(         Date       Open       High        Low      Close  Adj Close  Volume\n",
       " 0  2022-12-07  60.514999  63.279999  60.514999  60.514999  60.514999       0\n",
       " 1  2022-12-08  61.965000  62.980099  61.965000  63.464901  63.464901       0\n",
       " 2  2022-12-09  62.035000  62.779999  62.035000  63.365002  63.365002       0\n",
       " 3  2022-12-12  62.480000  63.249500  62.380001  62.480000  62.480000       0\n",
       " 4  2022-12-13  62.625000  63.508499  62.625000  62.625000  62.625000       0,\n",
       "            Date   Open   High    Low  Close*  Adj Close**  Volume     log_r\n",
       " 0  Dec 07, 2023  74.30  75.48  73.61   74.03        74.03  24,213 -0.003641\n",
       " 1  Dec 06, 2023  77.06  77.63  74.11   74.30        74.30  30,931 -0.036473\n",
       " 2  Dec 05, 2023  78.20  79.07  76.98   77.20        77.20  30,931 -0.012870\n",
       " 3  Dec 04, 2023  79.43  79.66  77.52   78.03        78.03  32,582 -0.017783\n",
       " 4  Dec 01, 2023  80.47  81.52  78.75   78.88        78.88  29,551 -0.019957)"
      ]
     },
     "execution_count": 149,
     "metadata": {},
     "output_type": "execute_result"
    }
   ],
   "source": [
    "usd_rub.head(), brent.head()"
   ]
  },
  {
   "cell_type": "markdown",
   "metadata": {},
   "source": [
    "Нужно привести даты к одному формату, объединить по ним таблицы и посчитать log изменений цены доллара (для задачи 4)"
   ]
  },
  {
   "cell_type": "code",
   "execution_count": 162,
   "metadata": {},
   "outputs": [],
   "source": [
    "from datetime import datetime\n",
    "import datetime as dt"
   ]
  },
  {
   "cell_type": "code",
   "execution_count": 153,
   "metadata": {},
   "outputs": [],
   "source": [
    "brent['Date'] = brent['Date'].apply(lambda x: datetime.strptime(x, \"%b %d, %Y\"))\n",
    "brent.head()"
   ]
  },
  {
   "cell_type": "code",
   "execution_count": 155,
   "metadata": {},
   "outputs": [
    {
     "data": {
      "text/html": [
       "<div>\n",
       "<style scoped>\n",
       "    .dataframe tbody tr th:only-of-type {\n",
       "        vertical-align: middle;\n",
       "    }\n",
       "\n",
       "    .dataframe tbody tr th {\n",
       "        vertical-align: top;\n",
       "    }\n",
       "\n",
       "    .dataframe thead th {\n",
       "        text-align: right;\n",
       "    }\n",
       "</style>\n",
       "<table border=\"1\" class=\"dataframe\">\n",
       "  <thead>\n",
       "    <tr style=\"text-align: right;\">\n",
       "      <th></th>\n",
       "      <th>Date</th>\n",
       "      <th>Open</th>\n",
       "      <th>High</th>\n",
       "      <th>Low</th>\n",
       "      <th>Close</th>\n",
       "      <th>Adj Close</th>\n",
       "      <th>Volume</th>\n",
       "    </tr>\n",
       "  </thead>\n",
       "  <tbody>\n",
       "    <tr>\n",
       "      <th>0</th>\n",
       "      <td>2022-12-07</td>\n",
       "      <td>60.514999</td>\n",
       "      <td>63.279999</td>\n",
       "      <td>60.514999</td>\n",
       "      <td>60.514999</td>\n",
       "      <td>60.514999</td>\n",
       "      <td>0</td>\n",
       "    </tr>\n",
       "    <tr>\n",
       "      <th>1</th>\n",
       "      <td>2022-12-08</td>\n",
       "      <td>61.965000</td>\n",
       "      <td>62.980099</td>\n",
       "      <td>61.965000</td>\n",
       "      <td>63.464901</td>\n",
       "      <td>63.464901</td>\n",
       "      <td>0</td>\n",
       "    </tr>\n",
       "    <tr>\n",
       "      <th>2</th>\n",
       "      <td>2022-12-09</td>\n",
       "      <td>62.035000</td>\n",
       "      <td>62.779999</td>\n",
       "      <td>62.035000</td>\n",
       "      <td>63.365002</td>\n",
       "      <td>63.365002</td>\n",
       "      <td>0</td>\n",
       "    </tr>\n",
       "    <tr>\n",
       "      <th>3</th>\n",
       "      <td>2022-12-12</td>\n",
       "      <td>62.480000</td>\n",
       "      <td>63.249500</td>\n",
       "      <td>62.380001</td>\n",
       "      <td>62.480000</td>\n",
       "      <td>62.480000</td>\n",
       "      <td>0</td>\n",
       "    </tr>\n",
       "    <tr>\n",
       "      <th>4</th>\n",
       "      <td>2022-12-13</td>\n",
       "      <td>62.625000</td>\n",
       "      <td>63.508499</td>\n",
       "      <td>62.625000</td>\n",
       "      <td>62.625000</td>\n",
       "      <td>62.625000</td>\n",
       "      <td>0</td>\n",
       "    </tr>\n",
       "  </tbody>\n",
       "</table>\n",
       "</div>"
      ],
      "text/plain": [
       "        Date       Open       High        Low      Close  Adj Close  Volume\n",
       "0 2022-12-07  60.514999  63.279999  60.514999  60.514999  60.514999       0\n",
       "1 2022-12-08  61.965000  62.980099  61.965000  63.464901  63.464901       0\n",
       "2 2022-12-09  62.035000  62.779999  62.035000  63.365002  63.365002       0\n",
       "3 2022-12-12  62.480000  63.249500  62.380001  62.480000  62.480000       0\n",
       "4 2022-12-13  62.625000  63.508499  62.625000  62.625000  62.625000       0"
      ]
     },
     "execution_count": 155,
     "metadata": {},
     "output_type": "execute_result"
    }
   ],
   "source": [
    "usd_rub['Date'] = usd_rub['Date'].apply(lambda x: datetime.strptime(x, \"%Y-%m-%d\"))\n",
    "usd_rub.head()"
   ]
  },
  {
   "cell_type": "code",
   "execution_count": 156,
   "metadata": {},
   "outputs": [
    {
     "data": {
      "text/html": [
       "<div>\n",
       "<style scoped>\n",
       "    .dataframe tbody tr th:only-of-type {\n",
       "        vertical-align: middle;\n",
       "    }\n",
       "\n",
       "    .dataframe tbody tr th {\n",
       "        vertical-align: top;\n",
       "    }\n",
       "\n",
       "    .dataframe thead th {\n",
       "        text-align: right;\n",
       "    }\n",
       "</style>\n",
       "<table border=\"1\" class=\"dataframe\">\n",
       "  <thead>\n",
       "    <tr style=\"text-align: right;\">\n",
       "      <th></th>\n",
       "      <th>Date</th>\n",
       "      <th>Open_usd</th>\n",
       "      <th>Close</th>\n",
       "      <th>Close*</th>\n",
       "      <th>log_r</th>\n",
       "    </tr>\n",
       "  </thead>\n",
       "  <tbody>\n",
       "    <tr>\n",
       "      <th>0</th>\n",
       "      <td>2022-12-07</td>\n",
       "      <td>60.514999</td>\n",
       "      <td>60.514999</td>\n",
       "      <td>77.17</td>\n",
       "      <td>-0.033387</td>\n",
       "    </tr>\n",
       "    <tr>\n",
       "      <th>1</th>\n",
       "      <td>2022-12-08</td>\n",
       "      <td>61.965000</td>\n",
       "      <td>63.464901</td>\n",
       "      <td>76.15</td>\n",
       "      <td>-0.017444</td>\n",
       "    </tr>\n",
       "    <tr>\n",
       "      <th>2</th>\n",
       "      <td>2022-12-09</td>\n",
       "      <td>62.035000</td>\n",
       "      <td>63.365002</td>\n",
       "      <td>76.10</td>\n",
       "      <td>-0.008245</td>\n",
       "    </tr>\n",
       "    <tr>\n",
       "      <th>3</th>\n",
       "      <td>2022-12-12</td>\n",
       "      <td>62.480000</td>\n",
       "      <td>62.480000</td>\n",
       "      <td>77.99</td>\n",
       "      <td>0.017070</td>\n",
       "    </tr>\n",
       "    <tr>\n",
       "      <th>4</th>\n",
       "      <td>2022-12-13</td>\n",
       "      <td>62.625000</td>\n",
       "      <td>62.625000</td>\n",
       "      <td>80.68</td>\n",
       "      <td>0.031349</td>\n",
       "    </tr>\n",
       "  </tbody>\n",
       "</table>\n",
       "</div>"
      ],
      "text/plain": [
       "        Date   Open_usd      Close  Close*     log_r\n",
       "0 2022-12-07  60.514999  60.514999   77.17 -0.033387\n",
       "1 2022-12-08  61.965000  63.464901   76.15 -0.017444\n",
       "2 2022-12-09  62.035000  63.365002   76.10 -0.008245\n",
       "3 2022-12-12  62.480000  62.480000   77.99  0.017070\n",
       "4 2022-12-13  62.625000  62.625000   80.68  0.031349"
      ]
     },
     "execution_count": 156,
     "metadata": {},
     "output_type": "execute_result"
    }
   ],
   "source": [
    "df = pd.merge(usd_rub, brent, on = 'Date', suffixes=('_usd', '_brent'))[['Date', 'Open_usd', 'Close', 'Close*', 'log_r']]\n",
    "df.head()"
   ]
  },
  {
   "cell_type": "markdown",
   "metadata": {},
   "source": [
    "Переименуем столбцы, чтобы не путаться"
   ]
  },
  {
   "cell_type": "code",
   "execution_count": 157,
   "metadata": {},
   "outputs": [
    {
     "data": {
      "text/html": [
       "<div>\n",
       "<style scoped>\n",
       "    .dataframe tbody tr th:only-of-type {\n",
       "        vertical-align: middle;\n",
       "    }\n",
       "\n",
       "    .dataframe tbody tr th {\n",
       "        vertical-align: top;\n",
       "    }\n",
       "\n",
       "    .dataframe thead th {\n",
       "        text-align: right;\n",
       "    }\n",
       "</style>\n",
       "<table border=\"1\" class=\"dataframe\">\n",
       "  <thead>\n",
       "    <tr style=\"text-align: right;\">\n",
       "      <th></th>\n",
       "      <th>Date</th>\n",
       "      <th>Open_usd</th>\n",
       "      <th>Price_usd</th>\n",
       "      <th>Price_brent</th>\n",
       "      <th>log_r_brent</th>\n",
       "    </tr>\n",
       "  </thead>\n",
       "  <tbody>\n",
       "    <tr>\n",
       "      <th>0</th>\n",
       "      <td>2022-12-07</td>\n",
       "      <td>60.514999</td>\n",
       "      <td>60.514999</td>\n",
       "      <td>77.17</td>\n",
       "      <td>-0.033387</td>\n",
       "    </tr>\n",
       "    <tr>\n",
       "      <th>1</th>\n",
       "      <td>2022-12-08</td>\n",
       "      <td>61.965000</td>\n",
       "      <td>63.464901</td>\n",
       "      <td>76.15</td>\n",
       "      <td>-0.017444</td>\n",
       "    </tr>\n",
       "    <tr>\n",
       "      <th>2</th>\n",
       "      <td>2022-12-09</td>\n",
       "      <td>62.035000</td>\n",
       "      <td>63.365002</td>\n",
       "      <td>76.10</td>\n",
       "      <td>-0.008245</td>\n",
       "    </tr>\n",
       "    <tr>\n",
       "      <th>3</th>\n",
       "      <td>2022-12-12</td>\n",
       "      <td>62.480000</td>\n",
       "      <td>62.480000</td>\n",
       "      <td>77.99</td>\n",
       "      <td>0.017070</td>\n",
       "    </tr>\n",
       "    <tr>\n",
       "      <th>4</th>\n",
       "      <td>2022-12-13</td>\n",
       "      <td>62.625000</td>\n",
       "      <td>62.625000</td>\n",
       "      <td>80.68</td>\n",
       "      <td>0.031349</td>\n",
       "    </tr>\n",
       "  </tbody>\n",
       "</table>\n",
       "</div>"
      ],
      "text/plain": [
       "        Date   Open_usd  Price_usd  Price_brent  log_r_brent\n",
       "0 2022-12-07  60.514999  60.514999        77.17    -0.033387\n",
       "1 2022-12-08  61.965000  63.464901        76.15    -0.017444\n",
       "2 2022-12-09  62.035000  63.365002        76.10    -0.008245\n",
       "3 2022-12-12  62.480000  62.480000        77.99     0.017070\n",
       "4 2022-12-13  62.625000  62.625000        80.68     0.031349"
      ]
     },
     "execution_count": 157,
     "metadata": {},
     "output_type": "execute_result"
    }
   ],
   "source": [
    "df.rename(columns={'Close':'Price_usd', 'Close*':'Price_brent', 'log_r':'log_r_brent'}, inplace= True)\n",
    "df.head()"
   ]
  },
  {
   "cell_type": "markdown",
   "metadata": {},
   "source": [
    "Найдем log-изменения для доллара и уберем цену открытия"
   ]
  },
  {
   "cell_type": "code",
   "execution_count": 158,
   "metadata": {},
   "outputs": [],
   "source": [
    "df['log_r_usd'] = df.apply(lambda x: log_r(x['Price_usd'], x['Open_usd']), axis=1)\n",
    "df.drop('Open_usd', axis=1, inplace=True)"
   ]
  },
  {
   "cell_type": "markdown",
   "metadata": {},
   "source": [
    "Регрессия в sklearn отлично подходит для задач машинного обучения, но мы будем использовать statmodels, так как там есть хорошая функция summary с нужными нам метриками. \n",
    "### Метрики и их интепретация - сначала для модели абсолютных значений, потом - лог-изменения: "
   ]
  },
  {
   "cell_type": "code",
   "execution_count": 160,
   "metadata": {},
   "outputs": [
    {
     "name": "stdout",
     "output_type": "stream",
     "text": [
      "                            OLS Regression Results                            \n",
      "==============================================================================\n",
      "Dep. Variable:              Price_usd   R-squared:                       0.146\n",
      "Model:                            OLS   Adj. R-squared:                  0.142\n",
      "Method:                 Least Squares   F-statistic:                     37.81\n",
      "Date:                Fri, 08 Dec 2023   Prob (F-statistic):           3.60e-09\n",
      "Time:                        03:15:55   Log-Likelihood:                -843.37\n",
      "No. Observations:                 223   AIC:                             1691.\n",
      "Df Residuals:                     221   BIC:                             1698.\n",
      "Df Model:                           1                                         \n",
      "Covariance Type:            nonrobust                                         \n",
      "===============================================================================\n",
      "                  coef    std err          t      P>|t|      [0.025      0.975]\n",
      "-------------------------------------------------------------------------------\n",
      "const          15.7795     10.958      1.440      0.151      -5.817      37.376\n",
      "Price_brent     0.8171      0.133      6.149      0.000       0.555       1.079\n",
      "==============================================================================\n",
      "Omnibus:                       97.080   Durbin-Watson:                   0.420\n",
      "Prob(Omnibus):                  0.000   Jarque-Bera (JB):              543.276\n",
      "Skew:                          -1.615   Prob(JB):                    1.07e-118\n",
      "Kurtosis:                       9.931   Cond. No.                     1.26e+03\n",
      "==============================================================================\n",
      "\n",
      "Warnings:\n",
      "[1] Standard Errors assume that the covariance matrix of the errors is correctly specified.\n",
      "[2] The condition number is large, 1.26e+03. This might indicate that there are\n",
      "strong multicollinearity or other numerical problems.\n"
     ]
    }
   ],
   "source": [
    "import statsmodels.api as sm\n",
    "X = df[['Price_brent']]\n",
    "y= df['Price_usd']\n",
    "X = sm.add_constant(X)\n",
    "\n",
    "model_absolute = sm.OLS(y, X)\n",
    "results = model_absolute.fit()\n",
    "print(results.summary())"
   ]
  },
  {
   "cell_type": "markdown",
   "metadata": {},
   "source": [
    "$R^2$ очень низкий. Хорошее значение теста Фишера: вероятность того, что цена доллара лучше описыватает константон - почти нуделева. Отрицательное правдоподобие - тоже плохо. t-статистика для цены на нефть высокая, настолько что P>|t| почти ноль, что должно говорить значимости коэффициента перед ценой нефти. Очень высокие показатели AIC BIC, что должно говорить о переученности.\n",
    "По савокупности, я бы не пользовался этой моедлью"
   ]
  },
  {
   "cell_type": "code",
   "execution_count": 161,
   "metadata": {},
   "outputs": [
    {
     "name": "stdout",
     "output_type": "stream",
     "text": [
      "                            OLS Regression Results                            \n",
      "==============================================================================\n",
      "Dep. Variable:              log_r_usd   R-squared:                       0.004\n",
      "Model:                            OLS   Adj. R-squared:                 -0.000\n",
      "Method:                 Least Squares   F-statistic:                    0.9095\n",
      "Date:                Fri, 08 Dec 2023   Prob (F-statistic):              0.341\n",
      "Time:                        03:15:55   Log-Likelihood:                 63.867\n",
      "No. Observations:                 223   AIC:                            -123.7\n",
      "Df Residuals:                     221   BIC:                            -116.9\n",
      "Df Model:                           1                                         \n",
      "Covariance Type:            nonrobust                                         \n",
      "===============================================================================\n",
      "                  coef    std err          t      P>|t|      [0.025      0.975]\n",
      "-------------------------------------------------------------------------------\n",
      "const          -0.0112      0.012     -0.917      0.360      -0.035       0.013\n",
      "log_r_brent     0.5988      0.628      0.954      0.341      -0.639       1.836\n",
      "==============================================================================\n",
      "Omnibus:                      496.936   Durbin-Watson:                   1.995\n",
      "Prob(Omnibus):                  0.000   Jarque-Bera (JB):           437416.167\n",
      "Skew:                         -14.678   Prob(JB):                         0.00\n",
      "Kurtosis:                     217.975   Cond. No.                         51.4\n",
      "==============================================================================\n",
      "\n",
      "Warnings:\n",
      "[1] Standard Errors assume that the covariance matrix of the errors is correctly specified.\n"
     ]
    }
   ],
   "source": [
    "X = df[['log_r_brent']]\n",
    "y= df['log_r_usd']\n",
    "X = sm.add_constant(X)\n",
    "\n",
    "model_log_r = sm.OLS(y, X)\n",
    "results = model_log_r.fit()\n",
    "print(results.summary())"
   ]
  },
  {
   "cell_type": "markdown",
   "metadata": {},
   "source": [
    "Метрики этой логарифмической модели даже хуже. $R^2$ почти ноль. Статистика Фишера низкая и вероятность, что коэффичент перед log-изменением цены брента 0 с вероятностью 0,34, что много. P>|t| принимают большие значения (обычно сравнивают с 0,05), и оба коэффициента могут быть отброшены. Как и сама модель"
   ]
  },
  {
   "cell_type": "markdown",
   "metadata": {},
   "source": [
    "### Вывод:\n",
    "2022-2023 годы оказались периодами, когда традиционная связь между ценой нефти и курсом доллара (и между их изменениями) была нарушена. Российская нефть продается с переменным дисконтом к брент, наблидается задержка между изменениями цены на нефть и поступлениями валюту в страну, свущественные корректировки вносили крупные сделки выкупа иностранных активов в РФ, попытки государства управлять курсом, политические события, динамика импорта, а также оторванность нашей финансовой системы от мировой (РФ банки в санкциях, иностранные - ушли из России или не имеют значимых лимитов на РФ рынок). Эти и другие причины повлияли на динамику курса рубля, по всей видимости, существенно больше, чем цена нефти марки Брент"
   ]
  }
 ],
 "metadata": {
  "kernelspec": {
   "display_name": "base",
   "language": "python",
   "name": "python3"
  },
  "language_info": {
   "codemirror_mode": {
    "name": "ipython",
    "version": 3
   },
   "file_extension": ".py",
   "mimetype": "text/x-python",
   "name": "python",
   "nbconvert_exporter": "python",
   "pygments_lexer": "ipython3",
   "version": "3.8.3"
  }
 },
 "nbformat": 4,
 "nbformat_minor": 2
}
