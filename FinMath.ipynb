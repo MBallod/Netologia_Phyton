{
 "cells": [
  {
   "cell_type": "markdown",
   "metadata": {},
   "source": [
    "Времени на этой неделе мало, поэтому я сделал только 2 первые задачи"
   ]
  },
  {
   "cell_type": "code",
   "execution_count": 19,
   "metadata": {},
   "outputs": [],
   "source": [
    "import pandas as pd\n",
    "import numpy as np"
   ]
  },
  {
   "cell_type": "code",
   "execution_count": 5,
   "metadata": {},
   "outputs": [],
   "source": [
    "brent = pd.read_csv('Brent_price.csv', sep=';')"
   ]
  },
  {
   "cell_type": "code",
   "execution_count": 6,
   "metadata": {},
   "outputs": [
    {
     "data": {
      "text/html": [
       "<div>\n",
       "<style scoped>\n",
       "    .dataframe tbody tr th:only-of-type {\n",
       "        vertical-align: middle;\n",
       "    }\n",
       "\n",
       "    .dataframe tbody tr th {\n",
       "        vertical-align: top;\n",
       "    }\n",
       "\n",
       "    .dataframe thead th {\n",
       "        text-align: right;\n",
       "    }\n",
       "</style>\n",
       "<table border=\"1\" class=\"dataframe\">\n",
       "  <thead>\n",
       "    <tr style=\"text-align: right;\">\n",
       "      <th></th>\n",
       "      <th>Date</th>\n",
       "      <th>Open</th>\n",
       "      <th>High</th>\n",
       "      <th>Low</th>\n",
       "      <th>Close*</th>\n",
       "      <th>Adj Close**</th>\n",
       "      <th>Volume</th>\n",
       "    </tr>\n",
       "  </thead>\n",
       "  <tbody>\n",
       "    <tr>\n",
       "      <th>0</th>\n",
       "      <td>Dec 07, 2023</td>\n",
       "      <td>74.30</td>\n",
       "      <td>75.48</td>\n",
       "      <td>73.61</td>\n",
       "      <td>74.03</td>\n",
       "      <td>74.03</td>\n",
       "      <td>24,213</td>\n",
       "    </tr>\n",
       "    <tr>\n",
       "      <th>1</th>\n",
       "      <td>Dec 06, 2023</td>\n",
       "      <td>77.06</td>\n",
       "      <td>77.63</td>\n",
       "      <td>74.11</td>\n",
       "      <td>74.30</td>\n",
       "      <td>74.30</td>\n",
       "      <td>30,931</td>\n",
       "    </tr>\n",
       "    <tr>\n",
       "      <th>2</th>\n",
       "      <td>Dec 05, 2023</td>\n",
       "      <td>78.20</td>\n",
       "      <td>79.07</td>\n",
       "      <td>76.98</td>\n",
       "      <td>77.20</td>\n",
       "      <td>77.20</td>\n",
       "      <td>30,931</td>\n",
       "    </tr>\n",
       "    <tr>\n",
       "      <th>3</th>\n",
       "      <td>Dec 04, 2023</td>\n",
       "      <td>79.43</td>\n",
       "      <td>79.66</td>\n",
       "      <td>77.52</td>\n",
       "      <td>78.03</td>\n",
       "      <td>78.03</td>\n",
       "      <td>32,582</td>\n",
       "    </tr>\n",
       "    <tr>\n",
       "      <th>4</th>\n",
       "      <td>Dec 01, 2023</td>\n",
       "      <td>80.47</td>\n",
       "      <td>81.52</td>\n",
       "      <td>78.75</td>\n",
       "      <td>78.88</td>\n",
       "      <td>78.88</td>\n",
       "      <td>29,551</td>\n",
       "    </tr>\n",
       "  </tbody>\n",
       "</table>\n",
       "</div>"
      ],
      "text/plain": [
       "           Date   Open   High    Low  Close*  Adj Close**  Volume\n",
       "0  Dec 07, 2023  74.30  75.48  73.61   74.03        74.03  24,213\n",
       "1  Dec 06, 2023  77.06  77.63  74.11   74.30        74.30  30,931\n",
       "2  Dec 05, 2023  78.20  79.07  76.98   77.20        77.20  30,931\n",
       "3  Dec 04, 2023  79.43  79.66  77.52   78.03        78.03  32,582\n",
       "4  Dec 01, 2023  80.47  81.52  78.75   78.88        78.88  29,551"
      ]
     },
     "execution_count": 6,
     "metadata": {},
     "output_type": "execute_result"
    }
   ],
   "source": [
    "brent.head()"
   ]
  },
  {
   "cell_type": "code",
   "execution_count": 7,
   "metadata": {},
   "outputs": [],
   "source": [
    "from statsmodels.tsa.stattools import adfuller"
   ]
  },
  {
   "cell_type": "markdown",
   "metadata": {},
   "source": [
    "Зададим функцию с расширенным тестом Дики-Фуллера, которую будем использовать для решения 1 и 2 задачи"
   ]
  },
  {
   "cell_type": "code",
   "execution_count": 50,
   "metadata": {},
   "outputs": [],
   "source": [
    "def ADF_test(x, alfa = 0.1):\n",
    "    result = adfuller(x)\n",
    "    \n",
    "    print('Значение тест ADF (Расширенный тест Дики-Фуллера) для цены брента: %f' % result[0])\n",
    "    print('p-value: %f' % result[1])\n",
    "    print('Критические значения:')\n",
    "    \n",
    "    for key, value in result[4].items():\n",
    "        print('\\t%s: %.3f' % (key, value))\n",
    "    \n",
    "    return result [1]< alfa\n",
    "\n"
   ]
  },
  {
   "cell_type": "markdown",
   "metadata": {},
   "source": [
    "# Задача 1"
   ]
  },
  {
   "cell_type": "code",
   "execution_count": 59,
   "metadata": {},
   "outputs": [
    {
     "name": "stdout",
     "output_type": "stream",
     "text": [
      "Значение тест ADF (Расширенный тест Дики-Фуллера) для цены брента: -2.395073\n",
      "p-value: 0.143132\n",
      "Критические значения:\n",
      "\t1%: -3.457\n",
      "\t5%: -2.873\n",
      "\t10%: -2.573\n",
      "Нельзя сказать, что стационарный с вероятностью > 0.9\n"
     ]
    }
   ],
   "source": [
    "p = 0.9\n",
    "print('Стационарный вероятностью >' if ADF_test(brent['Close*'], 1-p) else 'Нельзя сказать, что стационарный с вероятностью >', p)"
   ]
  },
  {
   "cell_type": "markdown",
   "metadata": {},
   "source": [
    "Значение теста больше 10%-критического значение (p-value больше 10%). Нельзя сказать, что временной ряд стационарен с вероятностью высокой веротностью (90% и выше)"
   ]
  },
  {
   "cell_type": "markdown",
   "metadata": {},
   "source": [
    "# Задача 2"
   ]
  },
  {
   "cell_type": "code",
   "execution_count": 39,
   "metadata": {},
   "outputs": [],
   "source": [
    "brent['log_r'] = brent.apply(lambda x: np.log(x['Close*']) - np.log(x['Open']), axis=1)"
   ]
  },
  {
   "cell_type": "code",
   "execution_count": 40,
   "metadata": {},
   "outputs": [
    {
     "data": {
      "text/html": [
       "<div>\n",
       "<style scoped>\n",
       "    .dataframe tbody tr th:only-of-type {\n",
       "        vertical-align: middle;\n",
       "    }\n",
       "\n",
       "    .dataframe tbody tr th {\n",
       "        vertical-align: top;\n",
       "    }\n",
       "\n",
       "    .dataframe thead th {\n",
       "        text-align: right;\n",
       "    }\n",
       "</style>\n",
       "<table border=\"1\" class=\"dataframe\">\n",
       "  <thead>\n",
       "    <tr style=\"text-align: right;\">\n",
       "      <th></th>\n",
       "      <th>Date</th>\n",
       "      <th>Open</th>\n",
       "      <th>High</th>\n",
       "      <th>Low</th>\n",
       "      <th>Close*</th>\n",
       "      <th>Adj Close**</th>\n",
       "      <th>Volume</th>\n",
       "      <th>log_r</th>\n",
       "    </tr>\n",
       "  </thead>\n",
       "  <tbody>\n",
       "    <tr>\n",
       "      <th>0</th>\n",
       "      <td>Dec 07, 2023</td>\n",
       "      <td>74.30</td>\n",
       "      <td>75.48</td>\n",
       "      <td>73.61</td>\n",
       "      <td>74.03</td>\n",
       "      <td>74.03</td>\n",
       "      <td>24,213</td>\n",
       "      <td>-0.003641</td>\n",
       "    </tr>\n",
       "    <tr>\n",
       "      <th>1</th>\n",
       "      <td>Dec 06, 2023</td>\n",
       "      <td>77.06</td>\n",
       "      <td>77.63</td>\n",
       "      <td>74.11</td>\n",
       "      <td>74.30</td>\n",
       "      <td>74.30</td>\n",
       "      <td>30,931</td>\n",
       "      <td>-0.036473</td>\n",
       "    </tr>\n",
       "    <tr>\n",
       "      <th>2</th>\n",
       "      <td>Dec 05, 2023</td>\n",
       "      <td>78.20</td>\n",
       "      <td>79.07</td>\n",
       "      <td>76.98</td>\n",
       "      <td>77.20</td>\n",
       "      <td>77.20</td>\n",
       "      <td>30,931</td>\n",
       "      <td>-0.012870</td>\n",
       "    </tr>\n",
       "    <tr>\n",
       "      <th>3</th>\n",
       "      <td>Dec 04, 2023</td>\n",
       "      <td>79.43</td>\n",
       "      <td>79.66</td>\n",
       "      <td>77.52</td>\n",
       "      <td>78.03</td>\n",
       "      <td>78.03</td>\n",
       "      <td>32,582</td>\n",
       "      <td>-0.017783</td>\n",
       "    </tr>\n",
       "    <tr>\n",
       "      <th>4</th>\n",
       "      <td>Dec 01, 2023</td>\n",
       "      <td>80.47</td>\n",
       "      <td>81.52</td>\n",
       "      <td>78.75</td>\n",
       "      <td>78.88</td>\n",
       "      <td>78.88</td>\n",
       "      <td>29,551</td>\n",
       "      <td>-0.019957</td>\n",
       "    </tr>\n",
       "  </tbody>\n",
       "</table>\n",
       "</div>"
      ],
      "text/plain": [
       "           Date   Open   High    Low  Close*  Adj Close**  Volume     log_r\n",
       "0  Dec 07, 2023  74.30  75.48  73.61   74.03        74.03  24,213 -0.003641\n",
       "1  Dec 06, 2023  77.06  77.63  74.11   74.30        74.30  30,931 -0.036473\n",
       "2  Dec 05, 2023  78.20  79.07  76.98   77.20        77.20  30,931 -0.012870\n",
       "3  Dec 04, 2023  79.43  79.66  77.52   78.03        78.03  32,582 -0.017783\n",
       "4  Dec 01, 2023  80.47  81.52  78.75   78.88        78.88  29,551 -0.019957"
      ]
     },
     "execution_count": 40,
     "metadata": {},
     "output_type": "execute_result"
    }
   ],
   "source": [
    "brent.head()"
   ]
  },
  {
   "cell_type": "code",
   "execution_count": 63,
   "metadata": {},
   "outputs": [
    {
     "name": "stdout",
     "output_type": "stream",
     "text": [
      "Значение тест ADF (Расширенный тест Дики-Фуллера) для цены брента: -10.518613\n",
      "p-value: 0.000000\n",
      "Критические значения:\n",
      "\t1%: -3.457\n",
      "\t5%: -2.873\n",
      "\t10%: -2.573\n",
      "Стационарный вероятностью > 0.99\n"
     ]
    }
   ],
   "source": [
    "p = 0.99\n",
    "print('Стационарный вероятностью >' if ADF_test(brent['log_r'], 1-p) else 'Нельзя сказать, что стационарный с вероятностью >', p)"
   ]
  },
  {
   "cell_type": "markdown",
   "metadata": {},
   "source": [
    "adfuller посчитал нам совсем низкий p-value и это хорошо, но подозрительно. Тем не менее, сравнивая значения статистики с критическими значениями, приходим к тому же выводу"
   ]
  }
 ],
 "metadata": {
  "kernelspec": {
   "display_name": "base",
   "language": "python",
   "name": "python3"
  },
  "language_info": {
   "codemirror_mode": {
    "name": "ipython",
    "version": 3
   },
   "file_extension": ".py",
   "mimetype": "text/x-python",
   "name": "python",
   "nbconvert_exporter": "python",
   "pygments_lexer": "ipython3",
   "version": "3.8.3"
  }
 },
 "nbformat": 4,
 "nbformat_minor": 2
}
